{
 "cells": [
  {
   "cell_type": "markdown",
   "metadata": {},
   "source": [
    "# Feature engineering "
   ]
  },
  {
   "cell_type": "markdown",
   "metadata": {},
   "source": [
    "In this notebook you will find the feature engineering part "
   ]
  },
  {
   "cell_type": "code",
   "execution_count": 42,
   "metadata": {},
   "outputs": [],
   "source": [
    "import pandas as pd\n",
    "import numpy as np\n",
    "import matplotlib.pyplot as plt\n",
    "import nltk\n",
    "import string\n",
    "from nltk import sent_tokenize\n",
    "from sklearn.feature_extraction.text import CountVectorizer\n",
    "from sklearn.feature_extraction.text import TfidfTransformer\n",
    "from nltk.tokenize import word_tokenize\n",
    "from nltk.stem.porter import PorterStemmer\n",
    "from nltk.corpus import stopwords\n",
    "#nltk.download()\n"
   ]
  },
  {
   "cell_type": "code",
   "execution_count": null,
   "metadata": {},
   "outputs": [],
   "source": []
  },
  {
   "cell_type": "code",
   "execution_count": 43,
   "metadata": {},
   "outputs": [],
   "source": [
    "data = pd.read_csv('../../../data/data_merged.csv')"
   ]
  },
  {
   "cell_type": "code",
   "execution_count": 44,
   "metadata": {},
   "outputs": [],
   "source": [
    "id_col = \"numero\"\n",
    "date_col = [\"date_transplantation\" ]\n",
    "\n",
    "var_category = [\n",
    "\n",
    "    \"pathologie\", \n",
    "\n",
    "    \"sex\", \n",
    "    \"other_organ_transplantation\", \n",
    "    \"transplanted_twice_during_study_period\", \n",
    "    \"super_urgence\", \n",
    "    \"retransplant\", \n",
    "    \"preoperative_ICU\", \n",
    "    \"preoperative_vasopressor\",\n",
    "    \"preoperative_mechanical_ventilation\",\n",
    "    \"PFO\", \n",
    "    \"diabetes\", \n",
    "    \"preoperative_pulmonary_hypertension\"\n",
    "    \"Insuffisance_renale\", \n",
    "    \"CMV_receveur\", \n",
    "    \"plasmapherese\", \n",
    "    \"preoperative_ECMO\", \n",
    "    \"thoracic_surgery_history\", \n",
    "    \"CMV_donneur\", \n",
    "    \"EBV_donneur\", \n",
    "    \"Sex_donor\" \n",
    "]\n",
    "\n",
    "var_continuous = [\n",
    "        \"BMI_donor\",\n",
    "        \"age\", \n",
    "        \"heure_arrivee_bloc\",\n",
    "    \"Poids\", \n",
    "    \"Taille\", \n",
    "    \"time_on_waiting_liste\", \n",
    "    \"LAS\", \n",
    "    \"body_mass_index\",\n",
    "    \"PAPS\", \n",
    "    \"Age_donor\", \n",
    "    \"Poids_donor\", \n",
    "    \"Taille_donor\", \n",
    "    \"Donneur_CPT\",\n",
    "    \"Tabagisme_donor\",\n",
    "    \"Aspirations_donor\", \n",
    "    \"RX_donor\", \n",
    "    \"PF_donor\",\n",
    "    \"oto_score\"   \n",
    "]\n",
    "\n",
    "text_col = [\n",
    "    \"atcd_medicaux\", \n",
    "    \"atcd_chirugicaux\"\n",
    "]\n",
    "\n",
    "target = [\n",
    "    'immediate_extubation', \n",
    "    'secondary_intubation'\n",
    "]"
   ]
  },
  {
   "cell_type": "code",
   "execution_count": 45,
   "metadata": {},
   "outputs": [],
   "source": [
    "var_continuous = [ i.lower() for i in var_continuous if i.lower() in data.columns]\n",
    "var_category = [ i.lower() for i in var_category if i.lower() in data.columns]"
   ]
  },
  {
   "cell_type": "markdown",
   "metadata": {},
   "source": [
    "# Time based features"
   ]
  },
  {
   "cell_type": "code",
   "execution_count": 46,
   "metadata": {},
   "outputs": [],
   "source": [
    "data.date_transplantation = pd.to_datetime(data.date_transplantation)\n",
    "\n",
    "data['month'] = data.date_transplantation.dt.month\n",
    "data['dayofweek'] = data.date_transplantation.dt.dayofweek\n",
    "\n",
    "data.heure_arrivee_bloc = data.heure_arrivee_bloc.map(lambda x : str(x).split(':')[0])\n",
    "data.drop('date_transplantation', axis = 1, inplace = True)"
   ]
  },
  {
   "cell_type": "markdown",
   "metadata": {},
   "source": [
    "# Impute missing values (Quick n dirty)"
   ]
  },
  {
   "cell_type": "code",
   "execution_count": 47,
   "metadata": {},
   "outputs": [],
   "source": [
    "#changer cette strategie\n",
    "data = data.fillna(0)\n",
    "#data[var_continuous] = data[var_continuous].astype(float)\n",
    "#data[var_category] = data[var_category].replace(\"NF\", 'NAN')"
   ]
  },
  {
   "cell_type": "markdown",
   "metadata": {},
   "source": [
    "# Similarities between patient and donor"
   ]
  },
  {
   "cell_type": "code",
   "execution_count": 48,
   "metadata": {},
   "outputs": [],
   "source": [
    "data[\"diff_age_donor_patient\"] = (data.age - data.age_donor).abs()\n",
    "data[\"diff_taille_donor_patient\"] = (data.taille - data.taille_donor).abs()\n",
    "data[\"diff_poids_donor_patient\"] = (data.poids - data.poids_donor).abs()\n",
    "data[\"diff_sex_donor_patient\"] = data.sex_donor.astype(int) != data.sexe.astype(int)\n",
    "data[\"diff_body_mass_index\"] = (data.body_mass_index - data.bmi_donor).abs()\n",
    "\n",
    "\n",
    "var_continuous = var_continuous + [\"diff_age_donor_patient\" , \"diff_taille_donor_patient\", \"diff_poids_donor_patient\"]"
   ]
  },
  {
   "cell_type": "markdown",
   "metadata": {},
   "source": [
    "# Quick NLP Feature"
   ]
  },
  {
   "cell_type": "code",
   "execution_count": 49,
   "metadata": {},
   "outputs": [],
   "source": [
    "voc_drop = [\"depuis\", \"sous\", \"non\", \"oui\", \"puis\", \"sans\", \"mars\", \"mai\", \"gauche\", \"post\", \"ans\"]"
   ]
  },
  {
   "cell_type": "code",
   "execution_count": 50,
   "metadata": {},
   "outputs": [],
   "source": [
    "def text_cleaning(x, voc_drop) :\n",
    "    \n",
    "    porter = PorterStemmer()\n",
    "    stop_words = set(stopwords.words('french'))\n",
    "    table = str.maketrans(' ', ' ', string.punctuation)\n",
    "    \n",
    "    x = str(x).translate(table)\n",
    "    x = x.lower().replace(\"\\n\", \" \").replace(\"è\", \"e\").replace(\"é\", \"e\")\n",
    "    x = [i for i in x.split(\" \") if i not in stop_words ]\n",
    "    x = [i for i in x if not i.isdigit()]\n",
    "    x = [i for i in x if i not in voc_drop]\n",
    "    x = \" \".join(x)\n",
    "    \n",
    "    return(x)"
   ]
  },
  {
   "cell_type": "code",
   "execution_count": 51,
   "metadata": {},
   "outputs": [],
   "source": [
    "data.atcd_medicaux = data.atcd_medicaux.map(lambda x: text_cleaning(x, voc_drop))\n",
    "data.atcd_chirugicaux = data.atcd_chirugicaux.map(lambda x: text_cleaning(x, voc_drop))"
   ]
  },
  {
   "cell_type": "code",
   "execution_count": 58,
   "metadata": {},
   "outputs": [],
   "source": [
    "data.cmv_receveur = data.cmv_receveur.map(lambda x : 1 if x == \"Positif\" else 0)\n",
    "data.cmv_donneur = data.cmv_donneur.map(lambda x : 1 if x == \"Positif\" else 0)\n",
    "data.ebv_donneur = data.ebv_donneur.map(lambda x : 1 if x == \"Positif\" else 0)"
   ]
  },
  {
   "cell_type": "code",
   "execution_count": 59,
   "metadata": {},
   "outputs": [],
   "source": [
    "count_vect = CountVectorizer()\n",
    "tfidf_transformer = TfidfTransformer()\n",
    "\n",
    "X_train_counts = count_vect.fit_transform(data.atcd_medicaux)\n",
    "X_train_tfidf = tfidf_transformer.fit_transform(X_train_counts)"
   ]
  },
  {
   "cell_type": "markdown",
   "metadata": {},
   "source": [
    "# Split and export dataset "
   ]
  },
  {
   "cell_type": "code",
   "execution_count": 60,
   "metadata": {},
   "outputs": [],
   "source": [
    "import pickle \n",
    "pickle.dump(X_train_counts, open( \"../../../data/counts_vec.p\", \"wb\" ) )\n",
    "pickle.dump(X_train_tfidf, open( \"../../../data/tfidf_vec.p\", \"wb\" ) )"
   ]
  },
  {
   "cell_type": "code",
   "execution_count": 61,
   "metadata": {},
   "outputs": [],
   "source": [
    "pickle.dump(var_category, open( \"../../../data/var_category.p\", \"wb\" ) )\n",
    "pickle.dump(var_continuous, open( \"../../../data/var_continuous.p\", \"wb\" ) )"
   ]
  },
  {
   "cell_type": "code",
   "execution_count": 62,
   "metadata": {},
   "outputs": [],
   "source": [
    "y = pd.get_dummies(data.target)[\"successful IE\"]\n",
    "X = data.drop([\"target\", \"numero\"], axis = 1)\n",
    "\n",
    "X.to_csv('../../../data/X.csv', index = False)\n",
    "pd.DataFrame(data = {'target' : y}).to_csv('../../../data/y.csv', index = False)"
   ]
  },
  {
   "cell_type": "code",
   "execution_count": null,
   "metadata": {},
   "outputs": [],
   "source": []
  },
  {
   "cell_type": "code",
   "execution_count": null,
   "metadata": {},
   "outputs": [],
   "source": []
  }
 ],
 "metadata": {
  "kernelspec": {
   "display_name": "Python 3",
   "language": "python",
   "name": "python3"
  },
  "language_info": {
   "codemirror_mode": {
    "name": "ipython",
    "version": 3
   },
   "file_extension": ".py",
   "mimetype": "text/x-python",
   "name": "python",
   "nbconvert_exporter": "python",
   "pygments_lexer": "ipython3",
   "version": "3.7.0"
  }
 },
 "nbformat": 4,
 "nbformat_minor": 2
}
