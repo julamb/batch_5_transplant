{
 "cells": [
  {
   "cell_type": "markdown",
   "metadata": {
    "slideshow": {
     "slide_type": "slide"
    }
   },
   "source": [
    "<h1> <center> Build dataset for classification task </center> </h1>"
   ]
  },
  {
   "cell_type": "code",
   "execution_count": 99,
   "metadata": {
    "slideshow": {
     "slide_type": "slide"
    }
   },
   "outputs": [],
   "source": [
    "import pandas as pd\n",
    "import numpy as np \n",
    "import warnings\n",
    "\n",
    "warnings.filterwarnings('ignore')\n",
    "%matplotlib inline "
   ]
  },
  {
   "cell_type": "markdown",
   "metadata": {
    "slideshow": {
     "slide_type": "slide"
    }
   },
   "source": [
    "The purpose of this notebook is to build a commun dataset `DATA_DIR/data_merged.csv` that must be used as a starting point for every machine learning model for IE success/failure classification task\n",
    "\n",
    "in this notebook you will find : \n",
    "\n",
    "* **Step 1** : Define Features types > Categorical / Numerical / Text / Date\n",
    "* **Step 2** : Build the target > based on two columns `IMMEDIATE_EXTUBATION` and `SECONDARY_EXTUBATION`\n",
    "* **Step 3** : Select a subset of patient > drop useless patients regarding the target\n",
    "* **Step 4** : Export the new dataset > `DATA_DIR/data_merged.csv`\n"
   ]
  },
  {
   "cell_type": "code",
   "execution_count": 160,
   "metadata": {},
   "outputs": [],
   "source": [
    "## path to data directory\n",
    "DATA_DIR = \"../../../data/\"\n",
    "PICKLE_OBJ =  \"../../../data/pickle_object/\"\n"
   ]
  },
  {
   "cell_type": "code",
   "execution_count": 161,
   "metadata": {},
   "outputs": [
    {
     "name": "stdout",
     "output_type": "stream",
     "text": [
      "mkdir: ../../../data/pickle_object/: File exists\r\n"
     ]
    }
   ],
   "source": [
    "mkdir ../../../data/pickle_object/"
   ]
  },
  {
   "cell_type": "code",
   "execution_count": 162,
   "metadata": {
    "slideshow": {
     "slide_type": "subslide"
    }
   },
   "outputs": [],
   "source": [
    "## import dataset \n",
    "dim_patient_intraoperatoire = pd.read_csv(\"{}dim_patient_intraoperatoire.csv\".format(DATA_DIR))\n",
    "dim_donneur = pd.read_csv(\"{}dim_donneur.csv\".format(DATA_DIR))\n",
    "dim_patient_preoperatoire = pd.read_csv(\"{}dim_patient_preoperatoire.csv\".format(DATA_DIR))\n",
    "dim_patient_postoperatoire = pd.read_csv(\"{}dim_patient_postoperatoire.csv\".format(DATA_DIR))\n",
    "\n",
    "## merge Preoperative, postoperative and donor dataset \n",
    "data = pd.merge(dim_patient_preoperatoire, dim_donneur, how = 'left', on = \"numero\")\n",
    "data = pd.merge(data, dim_patient_postoperatoire[[\"numero\", \" immediate_extubation\", \"secondary_intubation\"]], how = 'left', on = 'numero').rename(columns = {' immediate_extubation':  'immediate_extubation'})\n",
    "\n",
    "data.columns = [i.lower() for i in data.columns]\n"
   ]
  },
  {
   "cell_type": "markdown",
   "metadata": {
    "slideshow": {
     "slide_type": "slide"
    }
   },
   "source": [
    "# Define features type "
   ]
  },
  {
   "cell_type": "code",
   "execution_count": 163,
   "metadata": {
    "slideshow": {
     "slide_type": "subslide"
    }
   },
   "outputs": [],
   "source": [
    "features_type = { 'id' : [\"numero\"],\n",
    "     'date': [\"date_transplantation\"],\n",
    "\n",
    "    'categorical': [\n",
    "\n",
    "        \"pathologie\", \n",
    "        \"sex\", \n",
    "        \"other_organ_transplantation\", \n",
    "        \"transplanted_twice_during_study_period\", \n",
    "        \"super_urgence\", \n",
    "        \"retransplant\", \n",
    "        \"preoperative_ICU\", \n",
    "        \"preoperative_vasopressor\",\n",
    "        \"preoperative_mechanical_ventilation\",\n",
    "        \"PFO\", \n",
    "        \"diabetes\", \n",
    "        \"preoperative_pulmonary_hypertension\"\n",
    "        \"Insuffisance_renale\", \n",
    "        \"CMV_receveur\", \n",
    "        \"plasmapherese\", \n",
    "        \"preoperative_ECMO\", \n",
    "        \"thoracic_surgery_history\", \n",
    "        \"CMV_donneur\", \n",
    "        \"EBV_donneur\", \n",
    "        \"Sex_donor\",\n",
    "        \"heure_arrivee_bloc\",\n",
    "\n",
    "        ],\n",
    "\n",
    "    'continuous' : [\n",
    "            \"BMI_donor\",\n",
    "            \"age\", \n",
    "        \"Poids\", \n",
    "        \"Taille\", \n",
    "        \"time_on_waiting_liste\", \n",
    "        \"LAS\", \n",
    "        \"body_mass_index\",\n",
    "        \"PAPS\", \n",
    "        \"Age_donor\", \n",
    "        \"Poids_donor\", \n",
    "        \"Taille_donor\", \n",
    "        \"Donneur_CPT\",\n",
    "        \"Tabagisme_donor\",\n",
    "        \"Aspirations_donor\", \n",
    "        \"RX_donor\", \n",
    "        \"PF_donor\",\n",
    "        \"oto_score\"   \n",
    "    ],\n",
    "\n",
    "    'text' : [\n",
    "        \"atcd_medicaux\", \n",
    "        \"atcd_chirugicaux\"\n",
    "    ],\n",
    "\n",
    "    'target' : [\n",
    "        'immediate_extubation', \n",
    "        'secondary_intubation'\n",
    "    ]\n",
    "\n",
    "              }"
   ]
  },
  {
   "cell_type": "code",
   "execution_count": 164,
   "metadata": {},
   "outputs": [
    {
     "data": {
      "text/plain": [
       "[None, None]"
      ]
     },
     "execution_count": 164,
     "metadata": {},
     "output_type": "execute_result"
    }
   ],
   "source": [
    "# to lowercase \n",
    "\n",
    "for i in features_type.keys():\n",
    "    features_type[i] = [f.lower() for f in features_type[i]]\n",
    "    \n",
    "## drop columns starting by unnamed (index)\n",
    "[data.drop(i, axis = 1, inplace = True ) for i in data.columns if i.startswith(\"unnamed:\")]"
   ]
  },
  {
   "cell_type": "markdown",
   "metadata": {
    "slideshow": {
     "slide_type": "slide"
    }
   },
   "source": [
    "## Build the target"
   ]
  },
  {
   "cell_type": "code",
   "execution_count": 165,
   "metadata": {},
   "outputs": [],
   "source": [
    "failure = (data[\"immediate_extubation\"] == 1) & (data[\"secondary_intubation\"] == 1)\n",
    "success = (data[\"immediate_extubation\"] == 1) & (data[\"secondary_intubation\"] == 0)\n",
    "no_ie = (data[\"immediate_extubation\"] == 0) & (data[\"secondary_intubation\"] == 0)\n",
    "auto_extub = (data[\"immediate_extubation\"] == 0) & (data[\"secondary_intubation\"] == 1)"
   ]
  },
  {
   "cell_type": "code",
   "execution_count": 166,
   "metadata": {
    "slideshow": {
     "slide_type": "subslide"
    }
   },
   "outputs": [
    {
     "data": {
      "text/html": [
       "<div>\n",
       "<style scoped>\n",
       "    .dataframe tbody tr th:only-of-type {\n",
       "        vertical-align: middle;\n",
       "    }\n",
       "\n",
       "    .dataframe tbody tr th {\n",
       "        vertical-align: top;\n",
       "    }\n",
       "\n",
       "    .dataframe thead th {\n",
       "        text-align: right;\n",
       "    }\n",
       "</style>\n",
       "<table border=\"1\" class=\"dataframe\">\n",
       "  <thead>\n",
       "    <tr style=\"text-align: right;\">\n",
       "      <th></th>\n",
       "      <th>target</th>\n",
       "      <th>immediate_extubation</th>\n",
       "      <th>secondary_intubation</th>\n",
       "    </tr>\n",
       "  </thead>\n",
       "  <tbody>\n",
       "    <tr>\n",
       "      <th>1</th>\n",
       "      <td>successful IE</td>\n",
       "      <td>1.0</td>\n",
       "      <td>0.0</td>\n",
       "    </tr>\n",
       "    <tr>\n",
       "      <th>5</th>\n",
       "      <td>successful IE</td>\n",
       "      <td>1.0</td>\n",
       "      <td>0.0</td>\n",
       "    </tr>\n",
       "    <tr>\n",
       "      <th>12</th>\n",
       "      <td>successful IE</td>\n",
       "      <td>1.0</td>\n",
       "      <td>0.0</td>\n",
       "    </tr>\n",
       "    <tr>\n",
       "      <th>13</th>\n",
       "      <td>successful IE</td>\n",
       "      <td>1.0</td>\n",
       "      <td>0.0</td>\n",
       "    </tr>\n",
       "    <tr>\n",
       "      <th>15</th>\n",
       "      <td>successful IE</td>\n",
       "      <td>1.0</td>\n",
       "      <td>0.0</td>\n",
       "    </tr>\n",
       "  </tbody>\n",
       "</table>\n",
       "</div>"
      ],
      "text/plain": [
       "           target  immediate_extubation  secondary_intubation\n",
       "1   successful IE                   1.0                   0.0\n",
       "5   successful IE                   1.0                   0.0\n",
       "12  successful IE                   1.0                   0.0\n",
       "13  successful IE                   1.0                   0.0\n",
       "15  successful IE                   1.0                   0.0"
      ]
     },
     "execution_count": 166,
     "metadata": {},
     "output_type": "execute_result"
    }
   ],
   "source": [
    "data[\"target\"]  = np.nan\n",
    "\n",
    "data[\"target\"][failure] = \"unsuccessful IE\"\n",
    "data[\"target\"][success] = \"successful IE\"\n",
    "\n",
    "data[data.target.notnull()][['target', 'immediate_extubation', \"secondary_intubation\"]].head()"
   ]
  },
  {
   "cell_type": "code",
   "execution_count": 167,
   "metadata": {
    "slideshow": {
     "slide_type": "subslide"
    }
   },
   "outputs": [
    {
     "name": "stdout",
     "output_type": "stream",
     "text": [
      "effectif unsuccessful IE 16\n",
      "effectif successful IE 119\n",
      "effectif NO IE 239\n",
      "effectif Auto IE 34\n",
      "\n",
      "\n",
      "Missing values in the target \n",
      " \n",
      " immediate_extubation    1\n",
      "secondary_intubation    3\n",
      "dtype: int64\n"
     ]
    }
   ],
   "source": [
    "print(\"effectif unsuccessful IE {}\".format((failure).sum()))\n",
    "print(\"effectif successful IE {}\".format((success).sum()))\n",
    "print(\"effectif NO IE {}\".format((no_ie).sum()))\n",
    "print(\"effectif Auto IE {}\".format((auto_extub).sum()))\n",
    "print('\\n')\n",
    "\n",
    "print(\"Missing values in the target \\n \\n\", data[[\"immediate_extubation\", \"secondary_intubation\"]].isnull().sum())"
   ]
  },
  {
   "cell_type": "code",
   "execution_count": 168,
   "metadata": {
    "slideshow": {
     "slide_type": "subslide"
    }
   },
   "outputs": [],
   "source": [
    "data.drop(['secondary_intubation','immediate_extubation'], inplace = True, axis = 1 )"
   ]
  },
  {
   "cell_type": "markdown",
   "metadata": {},
   "source": [
    "### Select subset of patients"
   ]
  },
  {
   "cell_type": "code",
   "execution_count": 169,
   "metadata": {},
   "outputs": [
    {
     "data": {
      "text/plain": [
       "(135, 43)"
      ]
     },
     "execution_count": 169,
     "metadata": {},
     "output_type": "execute_result"
    }
   ],
   "source": [
    "data = data[data.target.notnull()]\n",
    "data.shape"
   ]
  },
  {
   "cell_type": "code",
   "execution_count": 170,
   "metadata": {},
   "outputs": [
    {
     "data": {
      "text/plain": [
       "'N° of matching patients between dim_patient dataset and fct_ tables : 74 over 135 , 55 %'"
      ]
     },
     "execution_count": 170,
     "metadata": {},
     "output_type": "execute_result"
    }
   ],
   "source": [
    "fct_temp = pd.read_csv('{}fct_temperature.csv'.format(DATA_DIR))\n",
    "fct_temp['numero'] = fct_temp['id_patient']\n",
    "fct_temp = fct_temp.drop_duplicates(['numero'])\n",
    "n = pd.merge(data, fct_temp, how = 'inner', on = 'numero').shape[0]\n",
    "\n",
    "\n",
    "\"N° of matching patients between dim_patient dataset and fct_ tables : {} over {} , {} %\".format(n,len(data),  round(n/len(data)*100))"
   ]
  },
  {
   "cell_type": "code",
   "execution_count": 171,
   "metadata": {},
   "outputs": [
    {
     "name": "stdout",
     "output_type": "stream",
     "text": [
      "Dataset shape :  (135, 43)\n"
     ]
    },
    {
     "data": {
      "text/plain": [
       "successful IE      88.148148\n",
       "unsuccessful IE    11.851852\n",
       "Name: target, dtype: float64"
      ]
     },
     "execution_count": 171,
     "metadata": {},
     "output_type": "execute_result"
    }
   ],
   "source": [
    "print(\"Dataset shape :  {}\" .format(data.shape))\n",
    "data.target.value_counts()/len(data) * 100"
   ]
  },
  {
   "cell_type": "code",
   "execution_count": 172,
   "metadata": {},
   "outputs": [],
   "source": [
    "## Quick cleaning : replace NF by nan value\n",
    "data = data.replace(\"NF\", np.nan)"
   ]
  },
  {
   "cell_type": "markdown",
   "metadata": {},
   "source": [
    "# Export"
   ]
  },
  {
   "cell_type": "code",
   "execution_count": 173,
   "metadata": {},
   "outputs": [],
   "source": [
    "import pickle \n",
    "\n",
    "## dataset :\n",
    "data.to_csv('../../../data/data_merged.csv' , index = False)\n",
    "\n",
    "## columns type : \n",
    "pickle.dump(features_type, open( \"{}features_type.p\".format(PICKLE_OBJ), \"wb\" ) )"
   ]
  },
  {
   "cell_type": "code",
   "execution_count": null,
   "metadata": {},
   "outputs": [],
   "source": []
  }
 ],
 "metadata": {
  "celltoolbar": "Slideshow",
  "kernelspec": {
   "display_name": "Python 3",
   "language": "python",
   "name": "python3"
  },
  "language_info": {
   "codemirror_mode": {
    "name": "ipython",
    "version": 3
   },
   "file_extension": ".py",
   "mimetype": "text/x-python",
   "name": "python",
   "nbconvert_exporter": "python",
   "pygments_lexer": "ipython3",
   "version": "3.7.0"
  }
 },
 "nbformat": 4,
 "nbformat_minor": 2
}
