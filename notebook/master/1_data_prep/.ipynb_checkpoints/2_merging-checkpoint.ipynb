{
 "cells": [
  {
   "cell_type": "markdown",
   "metadata": {},
   "source": [
    "### Add new data sources"
   ]
  },
  {
   "cell_type": "markdown",
   "metadata": {},
   "source": [
    "> MERGE POSTOPERATIVE DATA, BIOLOGICAL, FCT_TABLE for instance .. "
   ]
  },
  {
   "cell_type": "code",
   "execution_count": 2,
   "metadata": {},
   "outputs": [],
   "source": [
    "DATA_DIR = '../../../data/'"
   ]
  },
  {
   "cell_type": "code",
   "execution_count": 3,
   "metadata": {},
   "outputs": [],
   "source": [
    "import pandas as pd\n",
    "import os"
   ]
  },
  {
   "cell_type": "code",
   "execution_count": null,
   "metadata": {},
   "outputs": [],
   "source": [
    "data = pd.read_csv('{}data_merged.csv'.format(DATA_DIR) )\n",
    " \n",
    "... \n",
    "...\n",
    "\n",
    "data = pd.merge(data, ...)"
   ]
  },
  {
   "cell_type": "code",
   "execution_count": null,
   "metadata": {},
   "outputs": [],
   "source": [
    "data.to_csv('{}data_merged.csv'.format(DATA_DIR) )"
   ]
  },
  {
   "cell_type": "markdown",
   "metadata": {},
   "source": [
    "### Process fct_tables"
   ]
  },
  {
   "cell_type": "code",
   "execution_count": 4,
   "metadata": {},
   "outputs": [],
   "source": [
    "files = os.listdir(DATA_DIR)\n",
    "fct_tables = [i for i in files if i.startswith('fct_')]\n",
    "\n",
    "\n",
    "fct_dict = dict()\n",
    "\n",
    "def process_column_name(ds, label, ids) : \n",
    "    ds.columns = [i.lower() for i in ds.columns]\n",
    "    [ds.drop(i, axis = 1, inplace = True ) for i in ds.columns if i.startswith(\"unnamed:\")]\n",
    "\n",
    "     \n",
    "    ds.columns = [\"{}_{}\".format(i,label) for i in ds.columns if i not in (ids)] + ids\n",
    "    \n",
    "    return(ds)"
   ]
  },
  {
   "cell_type": "code",
   "execution_count": 5,
   "metadata": {},
   "outputs": [],
   "source": [
    "fct_data = pd.DataFrame()\n",
    "ids_col = ['id_patient', 'time']\n",
    "\n",
    "for i in fct_tables : \n",
    "    \n",
    "    label = i.split('.')[0]\n",
    "    fct_dict[label] = pd.read_csv(\"{}{}\".format(DATA_DIR, i))\n",
    "    fct_dict[label] = process_column_name(fct_dict[label], label, ids_col)\n",
    "    \n",
    "    fct_dict[label].sort_values(ids_col, inplace = True)\n",
    "    \n",
    "\n",
    "fct_tables = [fct_dict[i] for i in fct_dict.keys()]\n",
    "fct_data = pd.concat(fct_tables, axis = 1)"
   ]
  },
  {
   "cell_type": "code",
   "execution_count": 6,
   "metadata": {},
   "outputs": [],
   "source": [
    "fct_data.to_csv('{}fct_data.csv'.format(DATA_DIR))"
   ]
  }
 ],
 "metadata": {
  "kernelspec": {
   "display_name": "Python 3",
   "language": "python",
   "name": "python3"
  },
  "language_info": {
   "codemirror_mode": {
    "name": "ipython",
    "version": 3
   },
   "file_extension": ".py",
   "mimetype": "text/x-python",
   "name": "python",
   "nbconvert_exporter": "python",
   "pygments_lexer": "ipython3",
   "version": "3.7.0"
  }
 },
 "nbformat": 4,
 "nbformat_minor": 2
}
