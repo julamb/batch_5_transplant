{
 "cells": [
  {
   "cell_type": "markdown",
   "metadata": {
    "deletable": true,
    "editable": true,
    "slideshow": {
     "slide_type": "slide"
    }
   },
   "source": [
    "<h1> <center> Create dataset 4 ML classification </center> </h1>"
   ]
  },
  {
   "cell_type": "code",
   "execution_count": 52,
   "metadata": {
    "collapsed": true,
    "deletable": true,
    "editable": true,
    "slideshow": {
     "slide_type": "slide"
    }
   },
   "outputs": [],
   "source": [
    "import pandas as pd\n",
    "import numpy as np \n",
    "import warnings\n",
    "\n",
    "warnings.filterwarnings('ignore')\n",
    "%matplotlib inline "
   ]
  },
  {
   "cell_type": "markdown",
   "metadata": {
    "deletable": true,
    "editable": true,
    "slideshow": {
     "slide_type": "slide"
    }
   },
   "source": [
    "in this notebook you will find : \n",
    "\n",
    "* **Step 1** : Define Features types > Categorical / Numerical / Text\n",
    "* **Step 2** : Build the target > based on two columns `IMMEDIATE_EXTUBATION` and `SECONDARY_EXTUBATION`\n",
    "* **Step 3** : Select a subset of patient > drop useless patients\n",
    "* **Step 4** : Export the new data ready for feature engineering > folder : `data/data_merged.csv`"
   ]
  },
  {
   "cell_type": "code",
   "execution_count": 53,
   "metadata": {
    "collapsed": true,
    "deletable": true,
    "editable": true,
    "slideshow": {
     "slide_type": "subslide"
    }
   },
   "outputs": [],
   "source": [
    "dim_patient_intraoperatoire = pd.read_csv(\"../../../data/dim_patient_intraoperatoire.csv\")\n",
    "dim_donneur = pd.read_csv(\"../../../data/dim_donneur.csv\")\n",
    "dim_patient_preoperatoire = pd.read_csv(\"../../../data/dim_patient_preoperatoire.csv\")\n",
    "dim_patient_postoperatoire = pd.read_csv(\"../../../data/dim_patient_postoperatoire.csv\")\n",
    "\n",
    "data = pd.merge(dim_patient_preoperatoire, dim_donneur, how = 'left', on = \"numero\")\n",
    "data = pd.merge(data, dim_patient_postoperatoire[[\"numero\", \" immediate_extubation\", \"secondary_intubation\"]], how = 'left', on = 'numero').rename(columns = {' immediate_extubation':  'immediate_extubation'})"
   ]
  },
  {
   "cell_type": "markdown",
   "metadata": {
    "deletable": true,
    "editable": true,
    "slideshow": {
     "slide_type": "slide"
    }
   },
   "source": [
    "# Define features type "
   ]
  },
  {
   "cell_type": "code",
   "execution_count": 54,
   "metadata": {
    "collapsed": true,
    "deletable": true,
    "editable": true,
    "slideshow": {
     "slide_type": "subslide"
    }
   },
   "outputs": [],
   "source": [
    "id_col = \"numero\"\n",
    "\n",
    "cat_col = [\n",
    "    \"date_transplantation\", \n",
    "    \"heure_arrivee_bloc\",\n",
    "    \"pathologie\", \n",
    "    \"age\", \n",
    "    \"sex\", \n",
    "    \"other_organ_transplantation\", \n",
    "    \"transplanted_twice_during_study_period\", \n",
    "    \"super_urgence\", \n",
    "    \"retransplant\", \n",
    "    \"preoperative_ICU\", \n",
    "    \"preoperative_vasopressor\",\n",
    "    \"preoperative_mechanical_ventilation\",\n",
    "    \"PFO\", \n",
    "    \"diabetes\", \n",
    "    \"preoperative_pulmonary_hypertension\"\n",
    "    \"Insuffisance_renale\", \n",
    "    \"CMV_receveur\", \n",
    "    \"plasmapherese\", \n",
    "    \"preoperative_ECMO\", \n",
    "    \"ATCD_chirugicaux\", \n",
    "    \"thoracic_surgery_history\", \n",
    "    \"CMV_donneur\", \n",
    "    \"EBV_donneur\", \n",
    "    \"Sex_donor\", \n",
    "    \"BMI_donor\"\n",
    "]\n",
    "\n",
    "num_col = [\n",
    "    \"Poids\", \n",
    "    \"Taille\", \n",
    "    \"time_on_waiting_liste\", \n",
    "    \"LAS\", \n",
    "    \"body_mass_index\",\n",
    "    \"PAPS\", \n",
    "    \"Age_donor\", \n",
    "    \"Poids_donor\", \n",
    "    \"Taille_donor\", \n",
    "    \"Donneur_CPT\",\n",
    "    \"Tabagisme_donor\",\n",
    "    \"Aspirations_donor\", \n",
    "    \"RX_donor\", \n",
    "    \"PF_donor\",\n",
    "    \"oto_score\"   \n",
    "]\n",
    "\n",
    "text = [\n",
    "    \"ATCD_medicaux\", \n",
    "    \"ATCD_chirugicaux\"\n",
    "]\n",
    "target = [\n",
    "    'immediate_extubation', \n",
    "    'secondary_intubation'\n",
    "    \n",
    "]\n",
    "col_drop = [\"Unnamed: 0_x\", \"Unnamed: 0_y\"]"
   ]
  },
  {
   "cell_type": "markdown",
   "metadata": {
    "deletable": true,
    "editable": true,
    "slideshow": {
     "slide_type": "slide"
    }
   },
   "source": [
    "## Build the target"
   ]
  },
  {
   "cell_type": "code",
   "execution_count": 55,
   "metadata": {
    "collapsed": false,
    "deletable": true,
    "editable": true,
    "slideshow": {
     "slide_type": "subslide"
    }
   },
   "outputs": [
    {
     "data": {
      "text/html": [
       "<div>\n",
       "<style scoped>\n",
       "    .dataframe tbody tr th:only-of-type {\n",
       "        vertical-align: middle;\n",
       "    }\n",
       "\n",
       "    .dataframe tbody tr th {\n",
       "        vertical-align: top;\n",
       "    }\n",
       "\n",
       "    .dataframe thead th {\n",
       "        text-align: right;\n",
       "    }\n",
       "</style>\n",
       "<table border=\"1\" class=\"dataframe\">\n",
       "  <thead>\n",
       "    <tr style=\"text-align: right;\">\n",
       "      <th></th>\n",
       "      <th>target</th>\n",
       "      <th>immediate_extubation</th>\n",
       "      <th>secondary_intubation</th>\n",
       "    </tr>\n",
       "  </thead>\n",
       "  <tbody>\n",
       "    <tr>\n",
       "      <th>0</th>\n",
       "      <td>successful IE</td>\n",
       "      <td>0.0</td>\n",
       "      <td>0.0</td>\n",
       "    </tr>\n",
       "    <tr>\n",
       "      <th>1</th>\n",
       "      <td>successful IE</td>\n",
       "      <td>1.0</td>\n",
       "      <td>0.0</td>\n",
       "    </tr>\n",
       "    <tr>\n",
       "      <th>2</th>\n",
       "      <td>successful IE</td>\n",
       "      <td>0.0</td>\n",
       "      <td>0.0</td>\n",
       "    </tr>\n",
       "    <tr>\n",
       "      <th>3</th>\n",
       "      <td>successful IE</td>\n",
       "      <td>0.0</td>\n",
       "      <td>0.0</td>\n",
       "    </tr>\n",
       "    <tr>\n",
       "      <th>4</th>\n",
       "      <td>successful IE</td>\n",
       "      <td>0.0</td>\n",
       "      <td>0.0</td>\n",
       "    </tr>\n",
       "  </tbody>\n",
       "</table>\n",
       "</div>"
      ],
      "text/plain": [
       "          target  immediate_extubation  secondary_intubation\n",
       "0  successful IE                   0.0                   0.0\n",
       "1  successful IE                   1.0                   0.0\n",
       "2  successful IE                   0.0                   0.0\n",
       "3  successful IE                   0.0                   0.0\n",
       "4  successful IE                   0.0                   0.0"
      ]
     },
     "execution_count": 55,
     "metadata": {},
     "output_type": "execute_result"
    }
   ],
   "source": [
    "data.drop(col_drop, axis = 1, inplace = True)\n",
    "data.columns = [i.lower() for i in data.columns]\n",
    "\n",
    "data[\"target\"]  = np.nan\n",
    "data[\"target\"][(data[\"secondary_intubation\"] == 1)] = \"unsuccessful IE\"\n",
    "data[\"target\"][(data[\"secondary_intubation\"] == 0)] = \"successful IE\"\n",
    "\n",
    "data[data.target.notnull()][['target', 'immediate_extubation', \"secondary_intubation\"]].head()"
   ]
  },
  {
   "cell_type": "code",
   "execution_count": 56,
   "metadata": {
    "collapsed": false,
    "deletable": true,
    "editable": true,
    "slideshow": {
     "slide_type": "subslide"
    }
   },
   "outputs": [
    {
     "name": "stdout",
     "output_type": "stream",
     "text": [
      "effectif unsuccessful IE 16\n",
      "effectif successful IE 119\n",
      "effectif NO IE 239\n",
      "effectif Auto IE 34\n",
      "\n",
      "\n",
      "('Missing values in the target \\n \\n', immediate_extubation    1\n",
      "secondary_intubation    3\n",
      "dtype: int64)\n"
     ]
    }
   ],
   "source": [
    "print(\"effectif unsuccessful IE {}\".format(((data[\"immediate_extubation\"] == 1) & (data[\"secondary_intubation\"] == 1)).sum()))\n",
    "print(\"effectif successful IE {}\".format(((data[\"immediate_extubation\"] == 1) & (data[\"secondary_intubation\"] == 0)).sum()))\n",
    "print(\"effectif NO IE {}\".format(((data[\"immediate_extubation\"] == 0) & (data[\"secondary_intubation\"] == 0)).sum()))\n",
    "print(\"effectif Auto IE {}\".format(((data[\"immediate_extubation\"] == 0) & (data[\"secondary_intubation\"] == 1)).sum()))\n",
    "print('\\n')\n",
    "print(\"Missing values in the target \\n \\n\", data[[\"immediate_extubation\", \"secondary_intubation\"]].isnull().sum())"
   ]
  },
  {
   "cell_type": "code",
   "execution_count": 57,
   "metadata": {
    "collapsed": true,
    "deletable": true,
    "editable": true,
    "slideshow": {
     "slide_type": "subslide"
    }
   },
   "outputs": [],
   "source": [
    "data.drop(['secondary_intubation','immediate_extubation'], inplace = True, axis = 1 )"
   ]
  },
  {
   "cell_type": "markdown",
   "metadata": {
    "deletable": true,
    "editable": true
   },
   "source": [
    "### select subset of patients"
   ]
  },
  {
   "cell_type": "code",
   "execution_count": 58,
   "metadata": {
    "collapsed": true,
    "deletable": true,
    "editable": true
   },
   "outputs": [],
   "source": [
    "data = data[data.target.notnull()]"
   ]
  },
  {
   "cell_type": "code",
   "execution_count": 59,
   "metadata": {
    "collapsed": false,
    "deletable": true,
    "editable": true
   },
   "outputs": [
    {
     "data": {
      "text/plain": [
       "'Nombre de match entre les tables fct_ et dim_patient 355'"
      ]
     },
     "execution_count": 59,
     "metadata": {},
     "output_type": "execute_result"
    }
   ],
   "source": [
    "fct_temp = pd.read_csv('../../../data/fct_temperature.csv')\n",
    "fct_temp['numero'] = fct_temp['id_patient']\n",
    "fct_temp = fct_temp.drop_duplicates(['numero'])\n",
    "n = pd.merge(data, fct_temp, how = 'inner', on = 'numero').shape[0]\n",
    "\n",
    "\n",
    "\"Nombre de match entre les tables fct_ et dim_patient {}\".format(n)"
   ]
  },
  {
   "cell_type": "code",
   "execution_count": 60,
   "metadata": {
    "collapsed": false,
    "deletable": true,
    "editable": true
   },
   "outputs": [
    {
     "name": "stdout",
     "output_type": "stream",
     "text": [
      "Dataset shape :  (408, 43)\n"
     ]
    },
    {
     "data": {
      "text/plain": [
       "successful IE      87.745098\n",
       "unsuccessful IE    12.254902\n",
       "Name: target, dtype: float64"
      ]
     },
     "execution_count": 60,
     "metadata": {},
     "output_type": "execute_result"
    }
   ],
   "source": [
    "print(\"Dataset shape :  {}\" .format(data.shape))\n",
    "data.target.value_counts()/len(data) * 100"
   ]
  },
  {
   "cell_type": "code",
   "execution_count": 61,
   "metadata": {
    "collapsed": true,
    "deletable": true,
    "editable": true
   },
   "outputs": [],
   "source": [
    "data = data.replace(\"NF\", np.nan)"
   ]
  },
  {
   "cell_type": "markdown",
   "metadata": {
    "deletable": true,
    "editable": true
   },
   "source": [
    "# Export"
   ]
  },
  {
   "cell_type": "code",
   "execution_count": 62,
   "metadata": {
    "collapsed": true,
    "deletable": true,
    "editable": true
   },
   "outputs": [],
   "source": [
    "data.to_csv('../../../data/data_merged.csv' , index = False)"
   ]
  }
 ],
 "metadata": {
  "celltoolbar": "Slideshow",
  "kernelspec": {
   "display_name": "Python 2",
   "language": "python",
   "name": "python2"
  },
  "language_info": {
   "codemirror_mode": {
    "name": "ipython",
    "version": 2
   },
   "file_extension": ".py",
   "mimetype": "text/x-python",
   "name": "python",
   "nbconvert_exporter": "python",
   "pygments_lexer": "ipython2",
   "version": "2.7.10"
  }
 },
 "nbformat": 4,
 "nbformat_minor": 2
}
