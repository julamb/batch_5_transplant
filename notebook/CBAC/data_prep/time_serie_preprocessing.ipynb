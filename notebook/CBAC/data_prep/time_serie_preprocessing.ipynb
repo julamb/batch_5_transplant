{
 "cells": [
  {
   "cell_type": "code",
   "execution_count": 2,
   "metadata": {
    "collapsed": false,
    "deletable": true,
    "editable": true
   },
   "outputs": [],
   "source": [
    "import pandas as pd\n",
    "from tsfresh import extract_features"
   ]
  },
  {
   "cell_type": "code",
   "execution_count": 3,
   "metadata": {
    "collapsed": true,
    "deletable": true,
    "editable": true
   },
   "outputs": [],
   "source": [
    "fct_haemodynamic = pd.read_csv('../../../data/fct_haemodynamic.csv')\n",
    "d = fct_haemodynamic[fct_haemodynamic.id_patient.map(lambda x : x in (381,204))][[\"fc\", \"time\", \"id_patient\"]]"
   ]
  },
  {
   "cell_type": "code",
   "execution_count": 4,
   "metadata": {
    "collapsed": false,
    "deletable": true,
    "editable": true
   },
   "outputs": [
    {
     "name": "stderr",
     "output_type": "stream",
     "text": [
      "Feature Extraction: 20it [02:56,  7.58s/it]                        \n"
     ]
    }
   ],
   "source": [
    "extracted_features = extract_features(fct_haemodynamic[[\"fc\", \"time\", \"id_patient\"]], column_id=\"id_patient\", column_sort=\"time\")"
   ]
  },
  {
   "cell_type": "code",
   "execution_count": 6,
   "metadata": {
    "collapsed": false,
    "deletable": true,
    "editable": true
   },
   "outputs": [
    {
     "data": {
      "text/plain": [
       "Index([u'fc__abs_energy', u'fc__absolute_sum_of_changes',\n",
       "       u'fc__agg_autocorrelation__f_agg_\"mean\"',\n",
       "       u'fc__agg_autocorrelation__f_agg_\"median\"',\n",
       "       u'fc__agg_autocorrelation__f_agg_\"var\"',\n",
       "       u'fc__agg_linear_trend__f_agg_\"max\"__chunk_len_10__attr_\"intercept\"',\n",
       "       u'fc__agg_linear_trend__f_agg_\"max\"__chunk_len_10__attr_\"rvalue\"',\n",
       "       u'fc__agg_linear_trend__f_agg_\"max\"__chunk_len_10__attr_\"slope\"',\n",
       "       u'fc__agg_linear_trend__f_agg_\"max\"__chunk_len_10__attr_\"stderr\"',\n",
       "       u'fc__agg_linear_trend__f_agg_\"max\"__chunk_len_50__attr_\"intercept\"',\n",
       "       ...\n",
       "       u'fc__time_reversal_asymmetry_statistic__lag_1',\n",
       "       u'fc__time_reversal_asymmetry_statistic__lag_2',\n",
       "       u'fc__time_reversal_asymmetry_statistic__lag_3',\n",
       "       u'fc__value_count__value_-inf', u'fc__value_count__value_0',\n",
       "       u'fc__value_count__value_1', u'fc__value_count__value_inf',\n",
       "       u'fc__value_count__value_nan', u'fc__variance',\n",
       "       u'fc__variance_larger_than_standard_deviation'],\n",
       "      dtype='object', name=u'variable', length=794)"
      ]
     },
     "execution_count": 6,
     "metadata": {},
     "output_type": "execute_result"
    }
   ],
   "source": [
    "extracted_features"
   ]
  },
  {
   "cell_type": "code",
   "execution_count": null,
   "metadata": {
    "collapsed": true,
    "deletable": true,
    "editable": true
   },
   "outputs": [],
   "source": []
  }
 ],
 "metadata": {
  "kernelspec": {
   "display_name": "Python 2",
   "language": "python",
   "name": "python2"
  },
  "language_info": {
   "codemirror_mode": {
    "name": "ipython",
    "version": 2
   },
   "file_extension": ".py",
   "mimetype": "text/x-python",
   "name": "python",
   "nbconvert_exporter": "python",
   "pygments_lexer": "ipython2",
   "version": "2.7.10"
  }
 },
 "nbformat": 4,
 "nbformat_minor": 2
}
