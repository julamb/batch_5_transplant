{
 "cells": [
  {
   "cell_type": "markdown",
   "metadata": {},
   "source": [
    "In This notebook you'll find my very first data exploration and modeling (must not be consider) "
   ]
  },
  {
   "cell_type": "code",
   "execution_count": 31,
   "metadata": {},
   "outputs": [],
   "source": [
    "import pandas as pd\n",
    "import modules.vertica as vertica\n",
    "import pandas as pd\n",
    "import os\n",
    "import json \n",
    "import numpy as np\n",
    "import seaborn as sns\n",
    "import matplotlib.pyplot as plt\n"
   ]
  },
  {
   "cell_type": "markdown",
   "metadata": {},
   "source": [
    "#### Load datasets"
   ]
  },
  {
   "cell_type": "code",
   "execution_count": 32,
   "metadata": {},
   "outputs": [],
   "source": [
    "dim_donor = pd.read_csv(\"../../data/dim_donor.csv\")\n",
    "dim_patient = pd.read_csv(\"../../data/dim_patient.csv\")\n",
    "fct_haemodynamic = pd.read_csv(\"../../data/fct_haemodynamic.csv\")\n",
    "fct_neurology = pd.read_csv(\"../../data/fct_neurology.csv\")\n",
    "fct_respiratory = pd.read_csv(\"../../data/fct_respiratory.csv\")\n",
    "fct_temperature = pd.read_csv(\"../../data/fct_temperature.csv\")\n",
    "clean_data = pd.read_csv(\"../../data/clean_data/clean_Bloc_files.csv\")"
   ]
  },
  {
   "cell_type": "code",
   "execution_count": 41,
   "metadata": {},
   "outputs": [
    {
     "data": {
      "text/plain": [
       "(411, 91)"
      ]
     },
     "execution_count": 41,
     "metadata": {},
     "output_type": "execute_result"
    }
   ],
   "source": [
    "dim_patient.shape"
   ]
  },
  {
   "cell_type": "code",
   "execution_count": 43,
   "metadata": {},
   "outputs": [
    {
     "data": {
      "text/plain": [
       "94"
      ]
     },
     "execution_count": 43,
     "metadata": {},
     "output_type": "execute_result"
    }
   ],
   "source": [
    "fct_neurology.id_patient.nunique()"
   ]
  },
  {
   "cell_type": "code",
   "execution_count": 3,
   "metadata": {},
   "outputs": [],
   "source": [
    "var_to_drop = list()\n",
    "var_to_drop.append('id_patient')\n",
    "var_category = list()\n",
    "var_continuous = list()"
   ]
  },
  {
   "cell_type": "code",
   "execution_count": 4,
   "metadata": {},
   "outputs": [],
   "source": [
    "var_continuous = [\n",
    "    \n",
    "   'los_total_ventilation',\n",
    "'time_on_waiting_liste',\n",
    "'first_lung_ischemic_time',\n",
    "'second_lung_ischemic_time',\n",
    "'los_first_ventilation',\n",
    "'ecmo_duration',\n",
    "'prdc',\n",
    "'ffp',\n",
    "'fluid_support',\n",
    "'estimated_blood_loss', \n",
    "    'moment_de_pose_ecmo'\n",
    " ]"
   ]
  },
  {
   "cell_type": "code",
   "execution_count": 5,
   "metadata": {},
   "outputs": [],
   "source": [
    "var_category = [\n",
    "    \n",
    "'preoperative_icu',\n",
    "'preoperative_vasopressor',\n",
    "'preoperative_mechanical_ventilation',\n",
    "'super_urgence',\n",
    "'other_organ_transplantation',\n",
    "'pathologie',\n",
    "'retransplant',\n",
    "'transplanted_twice_during_study_period',\n",
    "'thoracic_surgery_history',\n",
    "'preoperative_pulmonary_hypertension',\n",
    "'plasmapherese',\n",
    "'pfo',\n",
    "'second_lung_ischemic_time',\n",
    "'preoperative_ecmo',\n",
    "'postoperative_ecmo',\n",
    "'only_intraoperative_ecmo',\n",
    "'ecmo_during_surgery',\n",
    "'cec',\n",
    "'cause_ecmo',\n",
    "'pulmonary_reduction',\n",
    "'adrenaline_perop',\n",
    "'platelets',\n",
    "'no_dependence',\n",
    "'cause_no_dependance',\n",
    "'adre_end_surgery']"
   ]
  },
  {
   "cell_type": "markdown",
   "metadata": {},
   "source": [
    "####  drop postoperative features"
   ]
  },
  {
   "cell_type": "code",
   "execution_count": 6,
   "metadata": {},
   "outputs": [],
   "source": [
    "columns_postoperatoire = ['pgd_h0' , \n",
    "'p_f_h0' , \n",
    "'p_f_end_surgery' , \n",
    "'pgd_end_surgery' , \n",
    "'time_last_pf', \n",
    "'pdg_h24' , \n",
    "'pgd_h48',\n",
    "'pgd3',\n",
    "'date_de_deces',\n",
    "'30_d_survival',\n",
    "'in_hospital_mortality'] \n",
    "\n",
    "dim_patient.drop(columns_postoperatoire, axis = 1, inplace = True)"
   ]
  },
  {
   "cell_type": "markdown",
   "metadata": {},
   "source": [
    "##### Time based features"
   ]
  },
  {
   "cell_type": "markdown",
   "metadata": {},
   "source": [
    "dayofweek, month  (date of surgery)\n",
    "\n",
    "next steps : add internship calendar "
   ]
  },
  {
   "cell_type": "code",
   "execution_count": 7,
   "metadata": {},
   "outputs": [],
   "source": [
    "dim_patient.date_transplantation = pd.to_datetime(dim_patient.date_transplantation)\n",
    "dim_patient['month'] = dim_patient.date_transplantation.dt.month\n",
    "dim_patient['dayofweek'] = dim_patient.date_transplantation.dt.dayofweek\n",
    "\n",
    "dim_patient['diff transplantation sortie'] = pd.to_datetime(dim_patient.date_transplantation) - pd.to_datetime(dim_patient.date_sortie_bloc)\n",
    "dim_patient['diff transplantation sortie']= dim_patient['diff transplantation sortie'].dt.days \n",
    "\n",
    "dim_patient.heure_arrivee_rea = dim_patient.heure_arrivee_rea.map(lambda x : x.split(':')[0])\n"
   ]
  },
  {
   "cell_type": "code",
   "execution_count": 8,
   "metadata": {},
   "outputs": [],
   "source": [
    "var_continuous.append('diff transplantation sortie')\n",
    "var_to_drop.append('date_sortie_bloc')\n",
    "var_to_drop.append('date_transplantation')\n",
    "var_category = var_category + ['ecmo_during_surgery','only_intraoperative_ecmo','preoperative_ecmo','exvivo','pfo','plasmapherese','preoperative_pulmonary_hypertension','thoracic_surgery_history','transplanted_twice_during_study_period','retransplant','pathologie','other_organ_transplantation','super_urgence','preoperative_mechanical_ventilation','preoperative_vasopressor','preoperative_icu','diabetes','sexe','exclusion_lactate','month', 'dayofweek', 'exclusion_plasmapherese', 'exclusion_pf','exclusion_ino']\n",
    "var_category = var_category + ['cec','cause_ecmo']\n",
    "var_continuous = var_continuous + ['second_lung_ischemic_time', 'first_lung_ischemic_time','time_on_waiting_liste','heure_arrivee_rea', 'age', 'body_mass_index']"
   ]
  },
  {
   "cell_type": "code",
   "execution_count": 9,
   "metadata": {},
   "outputs": [],
   "source": [
    "init_columns_list = list(dim_patient.columns)"
   ]
  },
  {
   "cell_type": "markdown",
   "metadata": {},
   "source": [
    "#### Time series features extraction"
   ]
  },
  {
   "cell_type": "code",
   "execution_count": 10,
   "metadata": {},
   "outputs": [],
   "source": [
    "def features_cat(df , path = \"features.json\") : \n",
    "    \n",
    "    rules = get_json(path)\n",
    "    for r in rules.keys() :\n",
    "        \n",
    "        try : \n",
    "            \n",
    "            cond_str = get_conditions(rules[r])\n",
    "            q = 'df[\"{}\"] = df[\"{}\"].map(lambda x : {})'.format(r, rules[r][\"name\"], cond_str)\n",
    "            exec(q)\n",
    "        except : \n",
    "            print(\"could not create columns {}\".format(rules[r][\"name\"]))\n",
    "            pass\n",
    "        \n",
    "    return(df)\n",
    "\n",
    "def get_conditions(conditions):\n",
    "    \n",
    "    cond = str()\n",
    "    for i in conditions[\"conditions\"].keys():\n",
    "        \n",
    "        cond = cond + \"{} if   {}  else \".format('\"' + conditions[\"conditions\"][i]  + '\"' , i )\n",
    "\n",
    "    cond = cond + '\"unknown\"'\n",
    "    return(cond)\n",
    "\n",
    "def get_json(path = \"features.json\") : \n",
    "    \n",
    "    f = json.load(open(path))\n",
    "    \n",
    "    return(f)\n",
    "\n",
    "def features_cat(df , dataset_name, path = \"features_haemodynamic.json\") : \n",
    "\n",
    "\n",
    "    conditions = get_json(path)\n",
    "    \n",
    "    for i in conditions.keys():\n",
    "        \n",
    "        cond = get_conditions(conditions[i])    \n",
    "        name_new_col = conditions[i]['name']\n",
    "        col = i\n",
    "\n",
    "        q = '{}[\"{}\"] = {}[\"{}\"].map(lambda x : {})'.format(dataset_name , name_new_col, dataset_name ,  col , cond)\n",
    "    \n",
    "        exec(q)\n",
    "    \n",
    "\n",
    "def get_conditions(conditions) :\n",
    "\n",
    "    q1 = \" 'normal' if x >= {}  and  x <= {} else  \" .format(conditions['normalite'][0], conditions['normalite'][1])\n",
    "    q2 = \" 'anormal' if x > {} and x < {} else \".format(conditions['etendue'][0], conditions['normalite'][0])\n",
    "    q3 = \"'anormal' if x > {} and x < {} else \".format(conditions['normalite'][1], conditions['etendue'][1])\n",
    "    q4 = \" 'dirty' if x < {} and x > {} else \".format(conditions['etendue'][0], conditions['etendue'][1])\n",
    "    q5 = \"'null' if x == 0 else 'unkown'\"\n",
    "    \n",
    "    \n",
    "    \n",
    "    cond = q1 + q2 + q3 + q4 + q5\n",
    "    \n",
    "    #print(cond)\n",
    "    \n",
    "    return(cond)\n",
    "    "
   ]
  },
  {
   "cell_type": "markdown",
   "metadata": {},
   "source": [
    "#### Encode time series"
   ]
  },
  {
   "cell_type": "markdown",
   "metadata": {},
   "source": [
    "create categorical data based on treshold given by DR (https://github.com/dataforgoodfr/batch_5_transplant/blob/master/data/README.md) "
   ]
  },
  {
   "cell_type": "markdown",
   "metadata": {},
   "source": [
    "features_cat(fct_haemodynamic, 'fct_haemodynamic', 'features_haemodynamic.json')\n",
    "features_cat(fct_respiratory, 'fct_respiratory', 'features_respiratory.json')\n",
    "features_cat(fct_neurology, 'fct_neurology', 'features_neurology.json')\n",
    "features_cat(fct_temperature, 'fct_temperature', 'features_temperature.json')\n",
    "\n",
    "fct_neurology.time = fct_neurology.time.map(lambda x: pd.to_datetime(x.replace(\" \", \"\"),  format = '%H:%M'))\n"
   ]
  },
  {
   "cell_type": "code",
   "execution_count": 11,
   "metadata": {},
   "outputs": [],
   "source": [
    "def features_from_ts(df, dim_patient):\n",
    "\n",
    "    columns_list = df.columns\n",
    "    ids_col = ['id_patient', 'time', 'Unnamed: 0']\n",
    "    cat_col = [i  for i in columns_list if i.endswith('_cat') ]\n",
    "    quant_col = list(set(columns_list) - set(ids_col) - set(cat_col))\n",
    "    \n",
    "    mean_ds = df.groupby(\"id_patient\").mean()[quant_col].reset_index()\n",
    "    var_ds = df.groupby(\"id_patient\").var()[quant_col].reset_index()\n",
    "    max_ds = df.groupby(\"id_patient\").max()[quant_col].reset_index()\n",
    "    \n",
    "    mean_ds.columns = ['id_patient'] + [i + '_mean_ds' for i in mean_ds.columns if i != 'id_patient']\n",
    "    var_ds.columns = ['id_patient'] + [i + '_var_ds' for i in var_ds.columns if i != 'id_patient']\n",
    "    max_ds.columns =['id_patient'] + [i + '_max_ds' for i in max_ds.columns if i != 'id_patient']\n",
    "\n",
    "    dim_patient = pd.merge(dim_patient, mean_ds, how = 'left', on = 'id_patient')\n",
    "    dim_patient = pd.merge(dim_patient, var_ds, how = 'left', on = 'id_patient')\n",
    "    dim_patient = pd.merge(dim_patient, max_ds, how = 'left', on = 'id_patient')\n",
    "\n",
    "    cat_df = df[cat_col] \n",
    "    cat_df.index = df.id_patient\n",
    "    cat_df = (cat_df == 'anormal').reset_index().groupby('id_patient').sum()\n",
    "    cat_df.columns = [i + \"_anormal_sum\" for i in cat_df.columns]\n",
    "    dim_patient = pd.merge(dim_patient, cat_df, how = 'left', on = 'id_patient')\n",
    "    \n",
    "    return(dim_patient)\n",
    "    "
   ]
  },
  {
   "cell_type": "markdown",
   "metadata": {},
   "source": [
    "dim_patient = features_from_ts(fct_neurology, dim_patient)\n",
    "dim_patient = features_from_ts(fct_haemodynamic, dim_patient)\n",
    "dim_patient = features_from_ts(fct_temperature, dim_patient)\n",
    "dim_patient = features_from_ts(fct_neurology, dim_patient)"
   ]
  },
  {
   "cell_type": "markdown",
   "metadata": {},
   "source": [
    "#### surgery duration"
   ]
  },
  {
   "cell_type": "markdown",
   "metadata": {},
   "source": [
    "length = dict()\n",
    "var_continuous.append('length_lt')\n",
    "\n",
    "for i in fct_neurology.id_patient.unique() : \n",
    "    max_ts = fct_neurology[fct_neurology.id_patient == i].time.max()\n",
    "    min_ts = fct_neurology[fct_neurology.id_patient == i].time.min()\n",
    "    x = (max_ts - min_ts)\n",
    "    x = x.seconds/60\n",
    "    length[i] = x\n",
    "    \n",
    "length_lt = pd.DataFrame.from_dict(length, orient = 'index').reset_index()    \n",
    "length_lt.columns = [\"id_patient\", \"length_lt\"]\n",
    "\n",
    "dim_patient[\"patient_code\"] = dim_patient[\"id_patient\"]\n",
    "length_lt.id_patient = length_lt.id_patient.astype(int)\n",
    "\n",
    "dim_patient = pd.merge(dim_patient, length_lt, how = 'left', on = \"id_patient\")\n"
   ]
  },
  {
   "cell_type": "markdown",
   "metadata": {},
   "source": [
    "quant_col = [i  for i in dim_patient.columns if 'mean' in i ]\n",
    "quant_col  = quant_col + [i  for i in dim_patient.columns if 'var' in i ]\n",
    "quant_col = quant_col + [i  for i in dim_patient.columns if 'max' in i ]\n",
    "\n",
    "dum = pd.get_dummies(dim_patient[var_category])\n",
    "dim_patient[dum.columns] = dum\n",
    "#dim_patient.drop(var_category[0], axis = 1, inplace = True)"
   ]
  },
  {
   "cell_type": "markdown",
   "metadata": {},
   "source": [
    "### Exploration"
   ]
  },
  {
   "cell_type": "code",
   "execution_count": 12,
   "metadata": {},
   "outputs": [],
   "source": [
    "col = list(set(var_continuous+var_category))"
   ]
  },
  {
   "cell_type": "code",
   "execution_count": 13,
   "metadata": {},
   "outputs": [],
   "source": [
    "X = dim_patient[col]"
   ]
  },
  {
   "cell_type": "code",
   "execution_count": 14,
   "metadata": {},
   "outputs": [],
   "source": [
    "def get_heatmap(df):\n",
    "    \n",
    "    corr = df.corr()\n",
    "    mask = np.zeros_like(corr, dtype=np.bool)\n",
    "    mask[np.triu_indices_from(mask)] = True\n",
    "\n",
    "    # Set up the matplotlib figure\n",
    "    f, ax = plt.subplots(figsize=(11, 9))\n",
    "\n",
    "    # Generate a custom diverging colormap\n",
    "    cmap = sns.diverging_palette(220, 10, as_cmap=True)\n",
    "\n",
    "    # Draw the heatmap with the mask and correct aspect ratio\n",
    "    sns.heatmap(corr, mask=mask, cmap=cmap, vmax=.3, center=0,\n",
    "                square=True, linewidths=.5, cbar_kws={\"shrink\": .5})"
   ]
  },
  {
   "cell_type": "code",
   "execution_count": 15,
   "metadata": {},
   "outputs": [
    {
     "data": {
      "image/png": "[encoded data removed]",
      "text/plain": [
       "<Figure size 792x648 with 2 Axes>"
      ]
     },
     "metadata": {},
     "output_type": "display_data"
    }
   ],
   "source": [
    "get_heatmap(X[var_continuous])"
   ]
  },
  {
   "cell_type": "markdown",
   "metadata": {},
   "source": [
    "No significant correlation between the quantitative features."
   ]
  },
  {
   "cell_type": "code",
   "execution_count": 16,
   "metadata": {},
   "outputs": [
    {
     "name": "stderr",
     "output_type": "stream",
     "text": [
      "/home/vagrant/miniconda3/lib/python3.6/site-packages/ipykernel_launcher.py:2: SettingWithCopyWarning: \n",
      "A value is trying to be set on a copy of a slice from a DataFrame\n",
      "\n",
      "See the caveats in the documentation: http://pandas.pydata.org/pandas-docs/stable/indexing.html#indexing-view-versus-copy\n",
      "  \n",
      "/home/vagrant/miniconda3/lib/python3.6/site-packages/ipykernel_launcher.py:3: SettingWithCopyWarning: \n",
      "A value is trying to be set on a copy of a slice from a DataFrame\n",
      "\n",
      "See the caveats in the documentation: http://pandas.pydata.org/pandas-docs/stable/indexing.html#indexing-view-versus-copy\n",
      "  This is separate from the ipykernel package so we can avoid doing imports until\n",
      "/home/vagrant/miniconda3/lib/python3.6/site-packages/ipykernel_launcher.py:4: SettingWithCopyWarning: \n",
      "A value is trying to be set on a copy of a slice from a DataFrame\n",
      "\n",
      "See the caveats in the documentation: http://pandas.pydata.org/pandas-docs/stable/indexing.html#indexing-view-versus-copy\n",
      "  after removing the cwd from sys.path.\n",
      "/home/vagrant/miniconda3/lib/python3.6/site-packages/ipykernel_launcher.py:5: SettingWithCopyWarning: \n",
      "A value is trying to be set on a copy of a slice from a DataFrame\n",
      "\n",
      "See the caveats in the documentation: http://pandas.pydata.org/pandas-docs/stable/indexing.html#indexing-view-versus-copy\n",
      "  \"\"\"\n"
     ]
    }
   ],
   "source": [
    "dim_patient['target'] = np.nan\n",
    "dim_patient['target'][(dim_patient[\"immediate_extubation\"] == 1) & (dim_patient[\"secondary_intubation\"] == 0)] = 'immediate extubation has been successfull'\n",
    "dim_patient['target'][(dim_patient[\"immediate_extubation\"] == 1) & (dim_patient[\"secondary_intubation\"] == 1)] = 'immediate extubation has not been successfull'\n",
    "dim_patient['target'][(dim_patient[\"immediate_extubation\"] == 0) & (dim_patient[\"secondary_intubation\"] == 0)] = 'no immediate extubation'\n",
    "dim_patient['target'][(dim_patient[\"immediate_extubation\"] == 0) & (dim_patient[\"secondary_intubation\"] == 1)] = 'auto extubation ? '\n"
   ]
  },
  {
   "cell_type": "code",
   "execution_count": 17,
   "metadata": {},
   "outputs": [
    {
     "data": {
      "text/plain": [
       "no immediate extubation                          58.150852\n",
       "immediate extubation has been successfull        28.953771\n",
       "auto extubation ?                                 8.272506\n",
       "immediate extubation has not been successfull     3.892944\n",
       "Name: target, dtype: float64"
      ]
     },
     "execution_count": 17,
     "metadata": {},
     "output_type": "execute_result"
    }
   ],
   "source": [
    "y = dim_patient[\"target\"]\n",
    "y_filter = (y == 'immediate extubation has been successfull') | (y == 'immediate extubation has not been successfull')\n",
    "y = y[y_filter]\n",
    "X = X[y_filter]\n",
    "\n",
    "dim_patient['target'].value_counts()/len(dim_patient['target'])*100\n"
   ]
  },
  {
   "cell_type": "code",
   "execution_count": 18,
   "metadata": {},
   "outputs": [],
   "source": [
    "X.replace('NF', np.nan, inplace = True ) "
   ]
  },
  {
   "cell_type": "markdown",
   "metadata": {},
   "source": [
    "#### impute missing values - quick n dirty"
   ]
  },
  {
   "cell_type": "code",
   "execution_count": 19,
   "metadata": {},
   "outputs": [
    {
     "name": "stdout",
     "output_type": "stream",
     "text": [
      "pathologie                                0\n",
      "month                                     0\n",
      "plasmapherese                             0\n",
      "prdc                                      0\n",
      "first_lung_ischemic_time                  1\n",
      "other_organ_transplantation               0\n",
      "moment_de_pose_ecmo                       1\n",
      "preoperative_vasopressor                  0\n",
      "adrenaline_perop                          0\n",
      "exclusion_lactate                         0\n",
      "exclusion_plasmapherese                   0\n",
      "postoperative_ecmo                        0\n",
      "pfo                                       2\n",
      "platelets                                 0\n",
      "age                                       0\n",
      "thoracic_surgery_history                  0\n",
      "ecmo_duration                             0\n",
      "cause_ecmo                                0\n",
      "exvivo                                    0\n",
      "retransplant                              0\n",
      "diabetes                                  0\n",
      "exclusion_ino                             0\n",
      "super_urgence                             0\n",
      "cec                                       0\n",
      "preoperative_pulmonary_hypertension       2\n",
      "exclusion_pf                              0\n",
      "los_first_ventilation                     0\n",
      "fluid_support                             0\n",
      "preoperative_icu                          0\n",
      "pulmonary_reduction                       0\n",
      "second_lung_ischemic_time                 1\n",
      "los_total_ventilation                     0\n",
      "time_on_waiting_liste                     0\n",
      "diff transplantation sortie               0\n",
      "transplanted_twice_during_study_period    0\n",
      "sexe                                      0\n",
      "adre_end_surgery                          0\n",
      "dayofweek                                 0\n",
      "estimated_blood_loss                      1\n",
      "no_dependence                             0\n",
      "cause_no_dependance                       0\n",
      "heure_arrivee_rea                         0\n",
      "preoperative_ecmo                         0\n",
      "ffp                                       0\n",
      "preoperative_mechanical_ventilation       0\n",
      "only_intraoperative_ecmo                  0\n",
      "body_mass_index                           0\n",
      "ecmo_during_surgery                       0\n",
      "dtype: int64\n"
     ]
    }
   ],
   "source": [
    "print(X.isnull().sum())\n",
    "X.fillna(X.mean(), inplace = True)"
   ]
  },
  {
   "cell_type": "code",
   "execution_count": 20,
   "metadata": {},
   "outputs": [],
   "source": [
    "X.replace(np.nan, 0, inplace = True)\n",
    "\n",
    "### très crado mais il est tard"
   ]
  },
  {
   "cell_type": "markdown",
   "metadata": {},
   "source": [
    "labels are highly unbalanced, sampling methods must be used to rebalanced class. "
   ]
  },
  {
   "cell_type": "code",
   "execution_count": 21,
   "metadata": {},
   "outputs": [
    {
     "data": {
      "text/plain": [
       "immediate extubation has been successfull        88.148148\n",
       "immediate extubation has not been successfull    11.851852\n",
       "Name: target, dtype: float64"
      ]
     },
     "execution_count": 21,
     "metadata": {},
     "output_type": "execute_result"
    }
   ],
   "source": [
    "y.value_counts()/len(y)*100"
   ]
  },
  {
   "cell_type": "code",
   "execution_count": null,
   "metadata": {},
   "outputs": [],
   "source": []
  },
  {
   "cell_type": "markdown",
   "metadata": {},
   "source": [
    "####  Quick n Dirty RF"
   ]
  },
  {
   "cell_type": "code",
   "execution_count": 22,
   "metadata": {},
   "outputs": [],
   "source": [
    "dum = pd.get_dummies(X[var_category])\n",
    "X = pd.concat([dum, X], axis = 1)\n",
    "X.drop(var_category, inplace = True, axis = 1)\n"
   ]
  },
  {
   "cell_type": "code",
   "execution_count": 23,
   "metadata": {},
   "outputs": [],
   "source": [
    "\n",
    "y = pd.get_dummies(y)\n",
    "y = y['immediate extubation has been successfull']"
   ]
  },
  {
   "cell_type": "code",
   "execution_count": 24,
   "metadata": {},
   "outputs": [
    {
     "name": "stderr",
     "output_type": "stream",
     "text": [
      "/home/vagrant/miniconda3/lib/python3.6/site-packages/sklearn/ensemble/forest.py:248: FutureWarning: The default value of n_estimators will change from 10 in version 0.20 to 100 in 0.22.\n",
      "  \"10 in version 0.20 to 100 in 0.22.\", FutureWarning)\n",
      "/home/vagrant/miniconda3/lib/python3.6/site-packages/sklearn/ensemble/forest.py:248: FutureWarning: The default value of n_estimators will change from 10 in version 0.20 to 100 in 0.22.\n",
      "  \"10 in version 0.20 to 100 in 0.22.\", FutureWarning)\n",
      "/home/vagrant/miniconda3/lib/python3.6/site-packages/sklearn/ensemble/forest.py:248: FutureWarning: The default value of n_estimators will change from 10 in version 0.20 to 100 in 0.22.\n",
      "  \"10 in version 0.20 to 100 in 0.22.\", FutureWarning)\n",
      "/home/vagrant/miniconda3/lib/python3.6/site-packages/sklearn/ensemble/forest.py:248: FutureWarning: The default value of n_estimators will change from 10 in version 0.20 to 100 in 0.22.\n",
      "  \"10 in version 0.20 to 100 in 0.22.\", FutureWarning)\n",
      "/home/vagrant/miniconda3/lib/python3.6/site-packages/sklearn/ensemble/forest.py:248: FutureWarning: The default value of n_estimators will change from 10 in version 0.20 to 100 in 0.22.\n",
      "  \"10 in version 0.20 to 100 in 0.22.\", FutureWarning)\n",
      "/home/vagrant/miniconda3/lib/python3.6/site-packages/sklearn/ensemble/forest.py:248: FutureWarning: The default value of n_estimators will change from 10 in version 0.20 to 100 in 0.22.\n",
      "  \"10 in version 0.20 to 100 in 0.22.\", FutureWarning)\n",
      "/home/vagrant/miniconda3/lib/python3.6/site-packages/sklearn/ensemble/forest.py:248: FutureWarning: The default value of n_estimators will change from 10 in version 0.20 to 100 in 0.22.\n",
      "  \"10 in version 0.20 to 100 in 0.22.\", FutureWarning)\n",
      "/home/vagrant/miniconda3/lib/python3.6/site-packages/sklearn/ensemble/forest.py:248: FutureWarning: The default value of n_estimators will change from 10 in version 0.20 to 100 in 0.22.\n",
      "  \"10 in version 0.20 to 100 in 0.22.\", FutureWarning)\n",
      "/home/vagrant/miniconda3/lib/python3.6/site-packages/sklearn/ensemble/forest.py:248: FutureWarning: The default value of n_estimators will change from 10 in version 0.20 to 100 in 0.22.\n",
      "  \"10 in version 0.20 to 100 in 0.22.\", FutureWarning)\n",
      "/home/vagrant/miniconda3/lib/python3.6/site-packages/sklearn/ensemble/forest.py:248: FutureWarning: The default value of n_estimators will change from 10 in version 0.20 to 100 in 0.22.\n",
      "  \"10 in version 0.20 to 100 in 0.22.\", FutureWarning)\n"
     ]
    },
    {
     "data": {
      "text/plain": [
       "0.9417582417582417"
      ]
     },
     "execution_count": 24,
     "metadata": {},
     "output_type": "execute_result"
    }
   ],
   "source": [
    "from sklearn.model_selection import cross_val_score\n",
    "from sklearn.ensemble import RandomForestClassifier\n",
    "\n",
    "clf = RandomForestClassifier()\n",
    "scores = cross_val_score(clf, X, y, cv=10)\n",
    "\n",
    "scores.mean()"
   ]
  },
  {
   "cell_type": "code",
   "execution_count": 25,
   "metadata": {},
   "outputs": [
    {
     "name": "stderr",
     "output_type": "stream",
     "text": [
      "/home/vagrant/miniconda3/lib/python3.6/site-packages/sklearn/ensemble/forest.py:248: FutureWarning: The default value of n_estimators will change from 10 in version 0.20 to 100 in 0.22.\n",
      "  \"10 in version 0.20 to 100 in 0.22.\", FutureWarning)\n"
     ]
    },
    {
     "data": {
      "text/plain": [
       "array([[ 2,  3],\n",
       "       [ 0, 40]])"
      ]
     },
     "execution_count": 25,
     "metadata": {},
     "output_type": "execute_result"
    }
   ],
   "source": [
    "from sklearn.metrics import confusion_matrix\n",
    "from sklearn.model_selection import train_test_split\n",
    "\n",
    "X_train, X_test, y_train, y_test = train_test_split(X, y, test_size=0.33, random_state=42)\n",
    "clf.fit(X_train, y_train)\n",
    "y_pred = clf.predict(X_test)\n",
    "\n",
    "confusion_matrix(y_test, y_pred)"
   ]
  },
  {
   "cell_type": "code",
   "execution_count": 26,
   "metadata": {},
   "outputs": [
    {
     "data": {
      "text/plain": [
       "1    40\n",
       "0     5\n",
       "Name: immediate extubation has been successfull, dtype: int64"
      ]
     },
     "execution_count": 26,
     "metadata": {},
     "output_type": "execute_result"
    }
   ],
   "source": [
    "y_test.value_counts()"
   ]
  },
  {
   "cell_type": "code",
   "execution_count": 27,
   "metadata": {},
   "outputs": [],
   "source": [
    "X['target'] = y \n",
    "X.to_csv('../../data/clean_dataset_ml.csv')"
   ]
  },
  {
   "cell_type": "code",
   "execution_count": 29,
   "metadata": {},
   "outputs": [],
   "source": []
  },
  {
   "cell_type": "code",
   "execution_count": 30,
   "metadata": {},
   "outputs": [
    {
     "data": {
      "text/plain": [
       "array([[-3.77006520e+02,  1.08245764e+03],\n",
       "       [-4.45302934e+02, -3.08816722e+02],\n",
       "       [-9.84920765e+01,  5.37349653e+02],\n",
       "       [-4.22043897e+02,  1.02359774e+02],\n",
       "       [-1.82845297e+02,  5.33693719e+01],\n",
       "       [-4.01246380e+02,  8.28772063e+02],\n",
       "       [-2.34505756e+01,  1.16562387e+03],\n",
       "       [-4.17315841e+02,  1.80350331e+02],\n",
       "       [-4.46340701e+02, -1.51291773e+02],\n",
       "       [-5.15008650e+02, -1.50297236e+03],\n",
       "       [-4.43695566e+02, -3.70072011e+02],\n",
       "       [-4.19438669e+02, -1.95590092e+01],\n",
       "       [-4.77405837e+02, -1.08605594e+03],\n",
       "       [-6.42819936e+01,  1.63598392e+03],\n",
       "       [-3.90432427e+02,  7.78099712e+02],\n",
       "       [-5.09248535e+02, -1.88346911e+03],\n",
       "       [-4.64952234e+02, -9.01576838e+02],\n",
       "       [-4.64968865e+02, -8.82176028e+02],\n",
       "       [-4.32541983e+02,  1.32757669e+03],\n",
       "       [-3.98521396e+02,  5.12397063e+02],\n",
       "       [-2.93195512e+02, -5.38802206e+02],\n",
       "       [-2.45276867e+02, -1.31802435e+03],\n",
       "       [-3.77226989e+02,  1.11186472e+03],\n",
       "       [-4.34421351e+02, -1.40589919e+02],\n",
       "       [-3.80087563e+02,  1.43824641e+03],\n",
       "       [-2.40395960e+02,  4.05853686e+03],\n",
       "       [-4.54889316e+02, -4.45456886e+02],\n",
       "       [-5.05454445e+02, -1.57993778e+03],\n",
       "       [-3.76646433e+02,  1.04286870e+03],\n",
       "       [-2.60323358e+02,  3.58561087e+03],\n",
       "       [-4.14121439e+02,  4.02244537e+02],\n",
       "       [ 3.89253404e+03,  4.87696849e+01],\n",
       "       [-4.76767808e+02, -1.02899871e+03],\n",
       "       [-1.88600187e+02, -6.23932103e+01],\n",
       "       [ 4.56914874e+04, -1.87382224e+02],\n",
       "       [-1.73391529e+02, -2.66623656e+02],\n",
       "       [ 1.38262003e+02,  1.68602957e+03],\n",
       "       [ 7.42496143e+01,  5.13407315e+02],\n",
       "       [-4.80016408e+02, -1.08080773e+03],\n",
       "       [-1.98225797e+02, -7.81235732e+01],\n",
       "       [-4.43900546e+02, -3.07839592e+02],\n",
       "       [-1.98636960e+02,  2.70144519e+02],\n",
       "       [-4.47007533e+02, -5.26622887e+01],\n",
       "       [-4.21172773e+02,  6.18574338e+01],\n",
       "       [-3.65034695e+02,  1.26780954e+03],\n",
       "       [-4.68170383e+02, -7.78566933e+02],\n",
       "       [-4.78114827e+02, -1.18183711e+03],\n",
       "       [-4.20363019e+02,  5.16513032e+02],\n",
       "       [-3.99966550e+02,  7.48457782e+02],\n",
       "       [-4.11692298e+02,  5.43217935e+02],\n",
       "       [-5.25738531e+01,  1.10726882e+03],\n",
       "       [-3.89708847e+01,  1.63483009e+03],\n",
       "       [-3.22095135e+02, -1.86479471e+03],\n",
       "       [-4.32555196e+02, -2.02260092e+02],\n",
       "       [-2.16678138e+02, -1.41501892e+02],\n",
       "       [-4.46686689e+02, -1.50418412e+02],\n",
       "       [-4.68278911e+02, -7.98076841e+02],\n",
       "       [-2.00686099e+02, -1.30153148e+03],\n",
       "       [-4.21217102e+02,  3.46000253e+00],\n",
       "       [-3.77259398e+02,  1.14124522e+03],\n",
       "       [-1.79973827e+02, -1.05557770e+03],\n",
       "       [-4.69120279e+02, -6.40817413e+02],\n",
       "       [-4.21694829e+02,  7.22776557e+01],\n",
       "       [-4.56758266e+02, -6.50204357e+02],\n",
       "       [-4.47752865e+02, -5.14897696e+01],\n",
       "       [-4.45430722e+02, -3.66764690e+02],\n",
       "       [-4.55826049e+02, -6.32060425e+02],\n",
       "       [-2.93951302e+02, -8.45566340e+02],\n",
       "       [-4.16423238e+02,  1.00774505e+02],\n",
       "       [-4.22004315e+02,  2.18551349e+02],\n",
       "       [-2.54006079e+02,  4.10974824e+03],\n",
       "       [-3.97898207e+02,  6.86073355e+02],\n",
       "       [-3.69258090e+02,  1.71177106e+03],\n",
       "       [-4.16898372e+02,  1.40555981e+02],\n",
       "       [-3.99520200e+02,  6.31056110e+02],\n",
       "       [-4.00457248e+02,  7.49770027e+02],\n",
       "       [-5.03026376e+02, -1.29810144e+03],\n",
       "       [-4.75897471e+02, -1.06936473e+03],\n",
       "       [-4.89819814e+02, -1.45513410e+03],\n",
       "       [-3.53553904e+02,  1.51235251e+03],\n",
       "       [-4.41525983e+02, -1.70627473e+02],\n",
       "       [-4.77924459e+02, -1.22084327e+03],\n",
       "       [-4.89921420e+02, -1.38697158e+03],\n",
       "       [-3.86912974e+02,  7.66533987e+02],\n",
       "       [-3.87593506e+02,  7.78229000e+02],\n",
       "       [-3.56738366e+02, -1.47806862e+03],\n",
       "       [-5.22591524e+02, -1.91536118e+03],\n",
       "       [-3.78196606e+02,  1.31764589e+03],\n",
       "       [-4.21362084e+02,  4.28288945e+01],\n",
       "       [-2.88900027e+01, -8.92715922e+02],\n",
       "       [-4.91285264e+02, -1.36489533e+03],\n",
       "       [-3.72989560e+02,  1.15208349e+03],\n",
       "       [-4.88515455e+02, -1.42853426e+03],\n",
       "       [-4.22992344e+02,  1.42784719e+02],\n",
       "       [-4.66977196e+02, -8.58849971e+02],\n",
       "       [-4.89520113e+02, -1.42636409e+03],\n",
       "       [-3.98828596e+02,  5.22824134e+02],\n",
       "       [-4.44894214e+02, -3.09634891e+02],\n",
       "       [-3.99255276e+02,  6.69389525e+02],\n",
       "       [-4.44734220e+02, -3.48792410e+02],\n",
       "       [-4.20793869e+02, -1.72122673e+01],\n",
       "       [-4.43943350e+02, -4.47450470e+02],\n",
       "       [-4.43766816e+02, -4.47886580e+02],\n",
       "       [-5.12433392e+02, -1.91588030e+03],\n",
       "       [-4.89965536e+02, -1.32859474e+03],\n",
       "       [-4.00194857e+02,  7.29534103e+02],\n",
       "       [-4.00024616e+02,  7.29153352e+02],\n",
       "       [-4.27133348e+02,  6.84962864e+01],\n",
       "       [-4.67464737e+02, -9.35596534e+02],\n",
       "       [-4.45729654e+02, -2.49723372e+02],\n",
       "       [-1.14835240e+02, -4.36609177e+02],\n",
       "       [-3.73337792e+02, -9.91781089e+02],\n",
       "       [-4.44703846e+02, -3.48918482e+02],\n",
       "       [-4.32560052e+02, -2.41648534e+02],\n",
       "       [-4.35433612e+02, -1.19468724e+02],\n",
       "       [-4.25989720e+02, -2.23017376e+01],\n",
       "       [-1.68496047e+02, -4.59246678e+02],\n",
       "       [-5.52539856e+01,  1.79292437e+03],\n",
       "       [-4.54926833e+02, -7.51333233e+02],\n",
       "       [-4.89253507e+02, -1.40779279e+03],\n",
       "       [-4.29710845e+02, -2.47129241e+02],\n",
       "       [-2.87317752e+02, -2.13859181e+02],\n",
       "       [-4.43907860e+02, -4.47563052e+02],\n",
       "       [-1.48787554e+02,  7.66873907e+02],\n",
       "       [-4.77422629e+02, -1.28031270e+03],\n",
       "       [-4.45863119e+02, -2.68776202e+02],\n",
       "       [-4.12049248e+02,  3.88576926e+02],\n",
       "       [-3.72595690e+02,  1.11277530e+03],\n",
       "       [-1.65671912e+02,  1.84681530e+03],\n",
       "       [-3.53686818e+02,  1.49297727e+03],\n",
       "       [-4.41690920e+02, -4.42133755e+02],\n",
       "       [-4.45369674e+02, -3.47574576e+02],\n",
       "       [-3.77161226e+02,  1.12151658e+03],\n",
       "       [-3.99347447e+02,  6.11358341e+02],\n",
       "       [-4.44146602e+02, -5.24822497e+02]])"
      ]
     },
     "execution_count": 30,
     "metadata": {},
     "output_type": "execute_result"
    }
   ],
   "source": [
    "principalComponents"
   ]
  },
  {
   "cell_type": "code",
   "execution_count": null,
   "metadata": {},
   "outputs": [],
   "source": []
  }
 ],
 "metadata": {
  "kernelspec": {
   "display_name": "Python 3",
   "language": "python",
   "name": "python3"
  },
  "language_info": {
   "codemirror_mode": {
    "name": "ipython",
    "version": 3
   },
   "file_extension": ".py",
   "mimetype": "text/x-python",
   "name": "python",
   "nbconvert_exporter": "python",
   "pygments_lexer": "ipython3",
   "version": "3.6.4"
  }
 },
 "nbformat": 4,
 "nbformat_minor": 2
}
