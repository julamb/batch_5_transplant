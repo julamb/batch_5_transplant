{
 "cells": [
  {
   "cell_type": "code",
   "execution_count": 3,
   "metadata": {},
   "outputs": [],
   "source": [
    "mydata = read.csv('../../../data/X.csv')"
   ]
  },
  {
   "cell_type": "code",
   "execution_count": 5,
   "metadata": {},
   "outputs": [
    {
     "name": "stdout",
     "output_type": "stream",
     "text": [
      "\n",
      "  Une version binaire est disponible mais la version du source est plus\n",
      "  récente:\n",
      "        binary source needs_compilation\n",
      "bnlearn    4.2    4.4              TRUE\n",
      "\n"
     ]
    },
    {
     "name": "stderr",
     "output_type": "stream",
     "text": [
      "installing the source package ‘bnlearn’\n",
      "\n",
      "Warning message in install.packages(\"bnlearn\"):\n",
      "“installation of package ‘bnlearn’ had non-zero exit status”"
     ]
    },
    {
     "name": "stdout",
     "output_type": "stream",
     "text": [
      "\n",
      "The downloaded source packages are in\n",
      "\t‘/private/var/folders/v2/0bms7qsx6mg8356g_0hfng6c0000gn/T/Rtmpt9ximg/downloaded_packages’\n"
     ]
    }
   ],
   "source": [
    "install.packages(\"bnlearn\")"
   ]
  },
  {
   "cell_type": "code",
   "execution_count": null,
   "metadata": {},
   "outputs": [],
   "source": []
  }
 ],
 "metadata": {
  "kernelspec": {
   "display_name": "R",
   "language": "R",
   "name": "ir"
  },
  "language_info": {
   "codemirror_mode": "r",
   "file_extension": ".r",
   "mimetype": "text/x-r-source",
   "name": "R",
   "pygments_lexer": "r",
   "version": "3.2.3"
  }
 },
 "nbformat": 4,
 "nbformat_minor": 2
}
