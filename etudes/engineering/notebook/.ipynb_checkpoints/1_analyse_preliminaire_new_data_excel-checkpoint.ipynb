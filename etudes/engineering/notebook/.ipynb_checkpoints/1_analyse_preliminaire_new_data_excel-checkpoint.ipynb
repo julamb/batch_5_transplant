{
 "cells": [
  {
   "cell_type": "code",
   "execution_count": 1,
   "metadata": {},
   "outputs": [],
   "source": [
    "import pandas as pd\n",
    "import numpy as np\n",
    "import sys\n",
    "import os\n",
    "from scripts.parser import Parser\n",
    "from scripts.config import *\n",
    "\n",
    "pd.set_option('display.max_columns', None)"
   ]
  },
  {
   "cell_type": "markdown",
   "metadata": {},
   "source": [
    "On a reçu suite à la réunion du 24 Octobre 2018 de nouvelle données (cf Slack). Ce notebook à pour but d'analyser ces données."
   ]
  },
  {
   "cell_type": "markdown",
   "metadata": {},
   "source": [
    "## Notebook de travail et d'analyse dans la lecture des fichier de type BlocxD4G "
   ]
  },
  {
   "cell_type": "markdown",
   "metadata": {},
   "source": [
    "- La première partie est le travail finalisé\n",
    "- La seconde partie est l'analyse et le code pour arrivé à la première partie."
   ]
  },
  {
   "cell_type": "markdown",
   "metadata": {},
   "source": [
    "### 1. Lecture des fichiers :"
   ]
  },
  {
   "cell_type": "code",
   "execution_count": 2,
   "metadata": {},
   "outputs": [],
   "source": [
    "root_path = os.path.dirname(os.path.dirname(os.path.dirname(os.getcwd())))\n",
    "scripts_path = os.path.join(root_path, 'scripts')\n",
    "data_path = os.path.join(root_path, 'data/original_data')\n"
   ]
  },
  {
   "cell_type": "code",
   "execution_count": 3,
   "metadata": {},
   "outputs": [
    {
     "name": "stdout",
     "output_type": "stream",
     "text": [
      "/Users/yanni-benoit-iyeze/Documents/Data For Good/batch_5_transplant/data/clean_data/\n",
      "/Users/yanni-benoit-iyeze/Documents/Data For Good/batch_5_transplant/data/clean_data/model/\n"
     ]
    }
   ],
   "source": [
    "sys.path.append(scripts_path)\n",
    "sys.path.append(root_path)\n",
    "\n",
    "parser = Parser()\n",
    "path_to_clean_file = parser.data_clean_path\n",
    "path_to_data_model = parser.data_model_path\n",
    "\n",
    "print(path_to_clean_file)\n",
    "print(path_to_data_model)"
   ]
  },
  {
   "cell_type": "code",
   "execution_count": null,
   "metadata": {},
   "outputs": [],
   "source": [
    "df1 = parser.read_xls_files('../../../data/original_data/machines/Bloc1D4G.xls')\n",
    "df2 = parser.read_xls_files('../../../data/original_data/machines/Bloc2D4G.xls')\n",
    "df3 = parser.read_xls_files('../../../data/original_data/machines/Bloc3D4G.xls')\n",
    "df4 = parser.read_xls_files('../../../data/original_data/machines/Bloc4D4G.xls')"
   ]
  },
  {
   "cell_type": "code",
   "execution_count": null,
   "metadata": {},
   "outputs": [],
   "source": [
    "df1.head()"
   ]
  },
  {
   "cell_type": "code",
   "execution_count": null,
   "metadata": {},
   "outputs": [],
   "source": [
    "df2.head()"
   ]
  },
  {
   "cell_type": "code",
   "execution_count": null,
   "metadata": {},
   "outputs": [],
   "source": [
    "df_full = pd.concat([df1, df2, df3, df4])"
   ]
  },
  {
   "cell_type": "code",
   "execution_count": null,
   "metadata": {},
   "outputs": [],
   "source": [
    "df_full.tail()"
   ]
  },
  {
   "cell_type": "code",
   "execution_count": null,
   "metadata": {},
   "outputs": [],
   "source": [
    "df_full.shape"
   ]
  },
  {
   "cell_type": "markdown",
   "metadata": {},
   "source": [
    "#### Export clean data :"
   ]
  },
  {
   "cell_type": "code",
   "execution_count": null,
   "metadata": {},
   "outputs": [],
   "source": [
    "df_full.to_csv('../../../data/clean_data/clean_bloc_files.csv', index=False, encoding='utf-8')"
   ]
  },
  {
   "cell_type": "markdown",
   "metadata": {},
   "source": [
    "### Analyse des fichiers originales"
   ]
  },
  {
   "cell_type": "code",
   "execution_count": null,
   "metadata": {},
   "outputs": [],
   "source": [
    "# Bloc1D4G\n",
    "df1 = pd.read_excel('../../../data/original_data/machines/Bloc1D4G.xls')\n",
    "#df1 = df1.dropna(subset=['Unnamed: 0'])\n",
    "# Bloc2D4G\n",
    "df2 = pd.read_excel('../../../data/original_data/machines/Bloc2D4G.xls')\n",
    "#df2 = df2.dropna(subset=['Unnamed: 0'])\n",
    "# Bloc3D4G\n",
    "df3 = pd.read_excel('../../../data/original_data/machines/Bloc3D4G.xls')\n",
    "#df3 = df3.dropna(subset=['Unnamed: 0'])\n",
    "# Bloc4D4G\n",
    "df4 = pd.read_excel('../../../data/original_data/machines/Bloc4D4G.xls')"
   ]
  },
  {
   "cell_type": "code",
   "execution_count": null,
   "metadata": {},
   "outputs": [],
   "source": [
    "df1.head(2)"
   ]
  },
  {
   "cell_type": "code",
   "execution_count": null,
   "metadata": {},
   "outputs": [],
   "source": [
    "df2.head(2)"
   ]
  },
  {
   "cell_type": "code",
   "execution_count": null,
   "metadata": {},
   "outputs": [],
   "source": [
    "df3.head(2)"
   ]
  },
  {
   "cell_type": "code",
   "execution_count": null,
   "metadata": {},
   "outputs": [],
   "source": [
    "df4.head(2)"
   ]
  },
  {
   "cell_type": "markdown",
   "metadata": {},
   "source": [
    "### Analyse des fichiers de type BlocxD4G approfondie : "
   ]
  },
  {
   "cell_type": "code",
   "execution_count": null,
   "metadata": {},
   "outputs": [],
   "source": [
    "# Renaming columns\n",
    "df1.rename(columns={'Unnamed: 0':'id_patient'}, inplace=True)\n",
    "df1.rename(columns={'Unnamed: 1':'time'}, inplace=True)"
   ]
  },
  {
   "cell_type": "code",
   "execution_count": null,
   "metadata": {},
   "outputs": [],
   "source": [
    "df1.shape"
   ]
  },
  {
   "cell_type": "code",
   "execution_count": null,
   "metadata": {},
   "outputs": [],
   "source": [
    "df1.head()"
   ]
  },
  {
   "cell_type": "code",
   "execution_count": null,
   "metadata": {},
   "outputs": [],
   "source": [
    "df1.id_patient.unique()"
   ]
  },
  {
   "cell_type": "code",
   "execution_count": null,
   "metadata": {},
   "outputs": [],
   "source": [
    "df1.id_patient.nunique()"
   ]
  },
  {
   "cell_type": "markdown",
   "metadata": {},
   "source": [
    "Dans le fichier ```Bloc1D4G.xls``` il y a 23 patient différents. Par contre certaines lignes de ```id_patient``` ne sont pas renseignés (NaN)"
   ]
  },
  {
   "cell_type": "code",
   "execution_count": null,
   "metadata": {},
   "outputs": [],
   "source": [
    "# OK\n",
    "df1[df1['id_patient'] == 329.0].head(2)"
   ]
  },
  {
   "cell_type": "markdown",
   "metadata": {},
   "source": [
    "**Problèmes :**\n",
    "    \n",
    "   - A chaque nouveau patient dans le fichiers, un header est collé.\n",
    "   - Un patient n'a pas forcement les même header"
   ]
  },
  {
   "cell_type": "code",
   "execution_count": null,
   "metadata": {},
   "outputs": [],
   "source": [
    "# Header pour le patient 316\n",
    "df1[~pd.isnull(df1['Unnamed: 34'])].head()"
   ]
  },
  {
   "cell_type": "markdown",
   "metadata": {},
   "source": [
    "On remarque les colonnes ```Temp``` et ```VT``` ont été ajouté pour ce patient (nom original des colonnes ```Unnamed: 34``` et ```Unnamed: 35```."
   ]
  },
  {
   "cell_type": "markdown",
   "metadata": {},
   "source": [
    "**Certaines colonnes ne corresponde pas au header du 1er patient** (colonne du DataFrame), ainsi ```Temp``` (colonne du DataFrame), devient ```SpO2``` (header du patient 316)"
   ]
  },
  {
   "cell_type": "code",
   "execution_count": null,
   "metadata": {},
   "outputs": [],
   "source": [
    "# La colonne Temp [DataFrame] ne correspond pas au header du patient 316 -> SpO2\n",
    "df1[~pd.isnull(df1['Unnamed: 34'])]['Temp'].head(2)"
   ]
  },
  {
   "cell_type": "code",
   "execution_count": null,
   "metadata": {},
   "outputs": [],
   "source": [
    "# Header pour le patient 328\n",
    "df1[~pd.isnull(df1['Unnamed: 37'])].head()"
   ]
  },
  {
   "cell_type": "markdown",
   "metadata": {},
   "source": [
    "#### Conclusion : "
   ]
  },
  {
   "cell_type": "markdown",
   "metadata": {},
   "source": [
    "Il faut lire par patient et adapté le header selon celui-ci"
   ]
  },
  {
   "cell_type": "code",
   "execution_count": null,
   "metadata": {},
   "outputs": [],
   "source": [
    "headers = df1[pd.isnull(df1['id_patient']) & \n",
    "                (pd.isnull(df1['time'])) & \n",
    "                (~pd.isnull(df1['B.I.S']))].dropna(how='all')\n",
    "headers"
   ]
  },
  {
   "cell_type": "code",
   "execution_count": null,
   "metadata": {
    "scrolled": false
   },
   "outputs": [],
   "source": [
    "for idx, rows in headers.iterrows():\n",
    "    patient_id = df1.loc[idx+2]['id_patient']\n",
    "    print(\"Header pour le patient : \" + str(patient_id))\n",
    "    print(rows.values)"
   ]
  },
  {
   "cell_type": "markdown",
   "metadata": {},
   "source": [
    "## Création d'une function qui permet de lire les fichiers et de structurer les données par patients"
   ]
  },
  {
   "cell_type": "code",
   "execution_count": null,
   "metadata": {},
   "outputs": [],
   "source": [
    "FULL_HEADER = ['id_patient', 'time', 'B.I.S', 'BIS SR', 'DC', 'ET Des.', 'ET Sevo.', 'ETCO2', 'ETCO2 (mmHg)',\n",
    " 'ETO2', 'FC', 'FICO2', 'FICO2 (mmHg)', 'FIN2O', 'FiO2', 'FR', 'FR(ecg)', 'MAC',\n",
    " 'NMT TOF', 'NMTratio', 'PAPdia', 'PAPmoy', 'PAPsys', 'PASd', 'PASm', 'PASs',\n",
    " 'PEEPtotal', 'Pmax', 'Pmean', 'PNId', 'PNIm', 'PNIs', 'Pplat', 'RR(co2)', 'SpO2',\n",
    " 'SvO2 (m)', 'Temp', 'VT']"
   ]
  },
  {
   "cell_type": "code",
   "execution_count": null,
   "metadata": {},
   "outputs": [],
   "source": [
    "df1 = pd.read_excel('../../../data/original_data/machines/Bloc1D4G.xls')\n",
    "# Renaming columns\n",
    "df1.rename(columns={'Unnamed: 0':'id_patient'}, inplace=True)\n",
    "df1.rename(columns={'Unnamed: 1':'time'}, inplace=True)"
   ]
  },
  {
   "cell_type": "code",
   "execution_count": null,
   "metadata": {},
   "outputs": [],
   "source": [
    "# List des id_patient dans le fichiers (on enlève les NaN)\n",
    "list_patient_in_file = list(df1[~pd.isnull(df1['id_patient'])]['id_patient'].unique())"
   ]
  },
  {
   "cell_type": "code",
   "execution_count": null,
   "metadata": {},
   "outputs": [],
   "source": [
    "list_patient_in_file"
   ]
  },
  {
   "cell_type": "code",
   "execution_count": null,
   "metadata": {},
   "outputs": [],
   "source": [
    "# New DF\n",
    "data = pd.DataFrame(columns=FULL_HEADER)"
   ]
  },
  {
   "cell_type": "code",
   "execution_count": null,
   "metadata": {},
   "outputs": [],
   "source": [
    "def fill_unknow_col_in_df(data):\n",
    "    \"\"\"\n",
    "    \n",
    "    \"\"\"\n",
    "    for unknow_col in [col for col in FULL_HEADER if col not in data.columns]:\n",
    "        data[unknow_col] = 0\n",
    "    \n",
    "    return data"
   ]
  },
  {
   "cell_type": "code",
   "execution_count": null,
   "metadata": {},
   "outputs": [],
   "source": [
    "for id_patient in list_patient_in_file:\n",
    "    try:\n",
    "        patient_df = df1[df1['id_patient'] == id_patient].copy()\n",
    "\n",
    "        # Cas spécifique\n",
    "        if patient_df[0:1].index.values[0] == 1: # On regarde si premier patient dans le fichier\n",
    "            patient_header = patient_df.columns\n",
    "            # Drop `Unnamed:`columns\n",
    "            patient_header_fix = [col for col in patient_df.columns if not col.startswith('Unnamed:')]\n",
    "            data = pd.concat([data, patient_df[patient_header_fix]], axis=0, sort=True)\n",
    "        # Cas générique\n",
    "        else:\n",
    "            patient_header_fix = [col for col in patient_df.columns if not col.startswith('Unnamed:')]\n",
    "            first_idx_patient = patient_df[0:1].index.values[0]\n",
    "\n",
    "            # On recherche le header de notre patient spécifique\n",
    "            patient_header = df1.loc[first_idx_patient-2].values\n",
    "            patient_df.columns = patient_header\n",
    "\n",
    "            patient_header[0] = 'id_patient' # NaN -> 'id_patient'\n",
    "            patient_header[1] = 'time' # NaN -> 'time'\n",
    "            # Drop NaN columns\n",
    "            patient_header = [col for col in patient_header if str(col) != 'nan']\n",
    "            patient_df = patient_df[patient_header]\n",
    "            \n",
    "            # \n",
    "            patient_df = fill_unknow_col_in_df(patient_df)\n",
    "            \n",
    "            data = pd.concat([data, patient_df[patient_header_fix]], axis=0, sort=True)\n",
    "    except Exception as e:\n",
    "        print('Error during id_patient ' + str(id_patient))\n",
    "        print(e)\n",
    "        \n",
    "data.fillna(0, inplace=True) "
   ]
  },
  {
   "cell_type": "code",
   "execution_count": null,
   "metadata": {},
   "outputs": [],
   "source": [
    "data.head()"
   ]
  },
  {
   "cell_type": "markdown",
   "metadata": {},
   "source": [
    "Test du DataFrame final (```data```)"
   ]
  },
  {
   "cell_type": "code",
   "execution_count": null,
   "metadata": {},
   "outputs": [],
   "source": [
    "## patient = 301.0\n",
    "data[data.id_patient == 301.0].tail()\n",
    "# PEEPtotal = 7\n",
    "# Pmax = 33\n",
    "# Pmean = 15\n",
    "# PNIs = 0"
   ]
  },
  {
   "cell_type": "code",
   "execution_count": null,
   "metadata": {},
   "outputs": [],
   "source": [
    "# Patient Header\n",
    "df1[2865-2:2865-1] # faire un head() pour trouver l'index de départ"
   ]
  },
  {
   "cell_type": "code",
   "execution_count": null,
   "metadata": {},
   "outputs": [],
   "source": [
    "df1[df1.id_patient == 301.0].tail()\n",
    "# PASs -> PEEPtotal = 7 OK\n",
    "# PEEPtotal -> Pmax = 33 OK\n",
    "# Pmax -> Pmean = 15 OK\n",
    "# PNIm -> PNIs = 0 OK"
   ]
  },
  {
   "cell_type": "code",
   "execution_count": null,
   "metadata": {},
   "outputs": [],
   "source": [
    "## Patient = 305.0\n",
    "# ok\n",
    "data[data.id_patient == 305.0].tail()\n",
    "# RR(co2) = 18.0\n",
    "# SpO2 = 0.0\n",
    "# Temp = 79.0"
   ]
  },
  {
   "cell_type": "code",
   "execution_count": null,
   "metadata": {},
   "outputs": [],
   "source": [
    "# Patient Header\n",
    "df1[10316-2:10316-1] # faire un head() pour trouver l'index de départ"
   ]
  },
  {
   "cell_type": "code",
   "execution_count": null,
   "metadata": {},
   "outputs": [],
   "source": [
    "# ok\n",
    "df1[df1.id_patient == 305.0].tail()\n",
    "# PNIs -> RR(co2) = 18.0 #OK\n",
    "# RR(co2) -> SpO2 = 0.0 #OK\n",
    "# SpO2 -> Temp = 79.0 #OK"
   ]
  },
  {
   "cell_type": "code",
   "execution_count": null,
   "metadata": {},
   "outputs": [],
   "source": []
  }
 ],
 "metadata": {
  "kernelspec": {
   "display_name": "transplant",
   "language": "python",
   "name": "transplant"
  },
  "language_info": {
   "codemirror_mode": {
    "name": "ipython",
    "version": 3
   },
   "file_extension": ".py",
   "mimetype": "text/x-python",
   "name": "python",
   "nbconvert_exporter": "python",
   "pygments_lexer": "ipython3",
   "version": "3.5.6"
  }
 },
 "nbformat": 4,
 "nbformat_minor": 2
}
