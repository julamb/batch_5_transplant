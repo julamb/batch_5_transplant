{
 "cells": [
  {
   "cell_type": "markdown",
   "metadata": {},
   "source": [
    "# Création automatique des tables de dimensions"
   ]
  },
  {
   "cell_type": "code",
   "execution_count": 3,
   "metadata": {},
   "outputs": [],
   "source": [
    "from scripts.config import *\n",
    "import glob\n",
    "import pandas as pd\n",
    "from tqdm import tqdm"
   ]
  },
  {
   "cell_type": "markdown",
   "metadata": {},
   "source": [
    "## Fixing root path issues in `config.py`"
   ]
  },
  {
   "cell_type": "code",
   "execution_count": 4,
   "metadata": {},
   "outputs": [
    {
     "ename": "AttributeError",
     "evalue": "module 'os' has no attribute 'PathLike'",
     "output_type": "error",
     "traceback": [
      "\u001b[0;31m---------------------------------------------------------------------------\u001b[0m",
      "\u001b[0;31mAttributeError\u001b[0m                            Traceback (most recent call last)",
      "\u001b[0;32m<ipython-input-4-9c779ddf5767>\u001b[0m in \u001b[0;36m<module>\u001b[0;34m()\u001b[0m\n\u001b[1;32m      3\u001b[0m \u001b[0;34m\u001b[0m\u001b[0m\n\u001b[1;32m      4\u001b[0m \u001b[0mos\u001b[0m\u001b[0;34m.\u001b[0m\u001b[0mpath\u001b[0m\u001b[0;34m.\u001b[0m\u001b[0mdirname\u001b[0m\u001b[0;34m(\u001b[0m\u001b[0mos\u001b[0m\u001b[0;34m.\u001b[0m\u001b[0mgetcwd\u001b[0m\u001b[0;34m(\u001b[0m\u001b[0;34m)\u001b[0m\u001b[0;34m)\u001b[0m\u001b[0;34m\u001b[0m\u001b[0m\n\u001b[0;32m----> 5\u001b[0;31m \u001b[0mos\u001b[0m\u001b[0;34m.\u001b[0m\u001b[0mPathLike\u001b[0m\u001b[0;34m(\u001b[0m\u001b[0;34m)\u001b[0m\u001b[0;34m\u001b[0m\u001b[0m\n\u001b[0m",
      "\u001b[0;31mAttributeError\u001b[0m: module 'os' has no attribute 'PathLike'"
     ]
    }
   ],
   "source": [
    "import os\n",
    "import sys\n",
    "\n",
    "os.path.dirname(os.getcwd())\n",
    "os.PathLike()"
   ]
  },
  {
   "cell_type": "markdown",
   "metadata": {},
   "source": [
    "## Resolve files name pattern from upload\n",
    "\n",
    "La solution la plus rapide est d'utiliser une regex et la librairie glob.\n",
    "\n",
    "- `Bloc*.xls*` pour les données des machines ex: __Bloc1D4G.xls__\n",
    "- `base LgTx *.xls*` pour les données des patients et donneur ex: __base LgTx IA 24oct2018__"
   ]
  },
  {
   "cell_type": "code",
   "execution_count": 6,
   "metadata": {},
   "outputs": [
    {
     "name": "stdout",
     "output_type": "stream",
     "text": [
      "Found 8 files\n"
     ]
    },
    {
     "data": {
      "text/plain": [
       "['/Users/yanni-benoit-iyeze/Documents/Data For Good/batch_5_transplant/data/original_data/machines/Bloc3D4G.xls',\n",
       " '/Users/yanni-benoit-iyeze/Documents/Data For Good/batch_5_transplant/data/original_data/machines/Bloc1D4G.xls',\n",
       " '/Users/yanni-benoit-iyeze/Documents/Data For Good/batch_5_transplant/data/original_data/machines/Bloc9D4G.xls',\n",
       " '/Users/yanni-benoit-iyeze/Documents/Data For Good/batch_5_transplant/data/original_data/machines/Bloc7D4G.xls',\n",
       " '/Users/yanni-benoit-iyeze/Documents/Data For Good/batch_5_transplant/data/original_data/machines/Bloc2D4G.xls',\n",
       " '/Users/yanni-benoit-iyeze/Documents/Data For Good/batch_5_transplant/data/original_data/machines/Bloc4D4G.xls',\n",
       " '/Users/yanni-benoit-iyeze/Documents/Data For Good/batch_5_transplant/data/original_data/machines/Bloc8D4G.xls',\n",
       " '/Users/yanni-benoit-iyeze/Documents/Data For Good/batch_5_transplant/data/original_data/machines/Bloc6D4G.xls']"
      ]
     },
     "execution_count": 6,
     "metadata": {},
     "output_type": "execute_result"
    }
   ],
   "source": [
    "path_to_data = DATA_ORIGINAL_MACHINES\n",
    "\n",
    "files = glob.glob('{}{}'.format(path_to_data,FILE_NAME_PATTERN['machines']))\n",
    "\n",
    "print(\"Found {} files\".format(len(files)))\n",
    "files"
   ]
  },
  {
   "cell_type": "code",
   "execution_count": 9,
   "metadata": {},
   "outputs": [
    {
     "name": "stdout",
     "output_type": "stream",
     "text": [
      "base*.xlsx\n",
      "Found 1 files\n"
     ]
    },
    {
     "data": {
      "text/plain": [
       "['/Users/yanni-benoit-iyeze/Documents/Data For Good/batch_5_transplant/data/original_data/patient-donor/base LgTx IA 24oct2018.xlsx']"
      ]
     },
     "execution_count": 9,
     "metadata": {},
     "output_type": "execute_result"
    }
   ],
   "source": [
    "path_to_data = DATA_ORIGINAL_PATIENT\n",
    "\n",
    "print(FILE_NAME_PATTERN['patient-donor'])\n",
    "files = glob.glob('{}{}'.format(path_to_data,FILE_NAME_PATTERN['patient-donor']))\n",
    "\n",
    "print(\"Found {} files\".format(len(files)))\n",
    "files\n"
   ]
  },
  {
   "cell_type": "code",
   "execution_count": 16,
   "metadata": {},
   "outputs": [
    {
     "name": "stderr",
     "output_type": "stream",
     "text": [
      "100%|██████████| 6/6 [00:12<00:00,  2.06s/it]\n"
     ]
    },
    {
     "data": {
      "text/plain": [
       "{'donneur': ['numero',\n",
       "  'CMV_donneur',\n",
       "  'EBV_donneur',\n",
       "  'Age_donor',\n",
       "  'Sex_donor',\n",
       "  'BMI_donor',\n",
       "  'Poids_donor',\n",
       "  'Taille_donor',\n",
       "  'Donneur_CPT',\n",
       "  'Tabagisme_donor',\n",
       "  'Aspirations_donor',\n",
       "  'RX_donor',\n",
       "  'PF_donor',\n",
       "  'oto_score'],\n",
       " 'patient_intraoperatoire': ['numero',\n",
       "  'exvivo',\n",
       "  'Immunosuppresseurs',\n",
       "  'heure_transfert_rea',\n",
       "  'date_sortie_bloc',\n",
       "  'duree_sejour_bloc',\n",
       "  'Antibioprophylaxie',\n",
       "  'PB_induction',\n",
       "  'Pb_induction_detail',\n",
       "  'FIO2_initiale',\n",
       "  'pH_initial',\n",
       "  'PAPS_initiale',\n",
       "  'PA_initiale',\n",
       "  'VT_initial',\n",
       "  'PaCO2_initial',\n",
       "  'PAPM_initiale',\n",
       "  'Fc_initiale',\n",
       "  'FR_initial',\n",
       "  'PaO2_initial',\n",
       "  'PAPD_initiale',\n",
       "  'NORAD_initiale',\n",
       "  'PEEP_initial',\n",
       "  'Bicarbonates_initial',\n",
       "  'NO_initiale',\n",
       "  'Lactate_initial',\n",
       "  'SvO2_initiale',\n",
       "  'Ic_initial',\n",
       "  'Hb_initial',\n",
       "  'Qc_initiale',\n",
       "  'Examen_Echographique_initial',\n",
       "  'Problemes_VBP',\n",
       "  'Problemes_VBP_commentaires',\n",
       "  'premiere_transplantation_cote',\n",
       "  'Ventilation_Unipulmonaire_Pb',\n",
       "  'FiO2_clampage_cote_1',\n",
       "  'PH_clampage_cote_1',\n",
       "  'PAPS_clampage_cote_1',\n",
       "  'PA_clampage_cote_1',\n",
       "  'VT_clampage_cote_1',\n",
       "  'PaCO2_clampage_cote_1',\n",
       "  'PAPM_clampage_cote_1',\n",
       "  'FC_clampage_cote_1',\n",
       "  'Fr_clampage_cote_1',\n",
       "  'PaO2_clampage_cote_1',\n",
       "  'PAPD_clampage_cote_1',\n",
       "  'NORAD_clampage_cote_1',\n",
       "  'PEEP_clampage_cote_1',\n",
       "  'Bicarbonates_clampage_cote_1',\n",
       "  'NO_clampage_cote_1',\n",
       "  'Evolution_PAP_clampage_cote_1',\n",
       "  'Lactates_clampage_cote_1',\n",
       "  'SvO2_clampage_cote_1',\n",
       "  'Ic_clampage_cote_1',\n",
       "  'Hb_clampage_cote_1',\n",
       "  'Qc_clampage_cote_1',\n",
       "  'Examen_Echographique_clampage_cote_1',\n",
       "  'evenements_clampage_cote_1',\n",
       "  'evenements_clampage_cote_1_commentaires',\n",
       "  'Heure_declampage_cote1',\n",
       "  'first_lung_ischemic_time',\n",
       "  'FiO2_declampage_cote1',\n",
       "  'PH_declampage_cote_1',\n",
       "  'PAPS_declampage_cote_1',\n",
       "  'PA _declampage_cote_1',\n",
       "  'VT_declampage_cote_1',\n",
       "  'PaCO2_declampage_cote_1',\n",
       "  'PAPM_declampage_cote_1',\n",
       "  'FC_declampage_cote_1',\n",
       "  'Fr_declampage_cote_1',\n",
       "  'PaO2_declampage_cote_1',\n",
       "  'PAPD_declampage_cote_1',\n",
       "  'NORAD_declampage_cote_1',\n",
       "  'PEEP_declampage_cote_1',\n",
       "  'Bicarbonates_declampage_cote_1',\n",
       "  'NO_declampage_cote_1',\n",
       "  'Evolution_PAP_declampage_cote_1',\n",
       "  'SvO2_declampage_cote_1',\n",
       "  'Lactates_declampage_cote_1',\n",
       "  'Ic_declampage_cote_1',\n",
       "  'Hb_declampage_cote_1',\n",
       "  'Qc_declampage_cote_1',\n",
       "  'Examen_Echographique_declampage_cote_1',\n",
       "  'evenements_declampage_cote_1',\n",
       "  'evenements_declampage_cote_1_commentaires',\n",
       "  'Saigement_estime_declampage_cote1',\n",
       "  'classification_bullage_1',\n",
       "  'duree_bullage_1',\n",
       "  'retentissement_ETO_bullage_1',\n",
       "  'retentissement_ECG_bullage_1',\n",
       "  'retentissement_BIS_bullage_1',\n",
       "  'Retentissement_hemodynamique_bullage_1',\n",
       "  'deuxieme_transplantation_cote',\n",
       "  'Ventilation_Unipulmonaire_Pb.1',\n",
       "  'FiO2_clampage_cote_2',\n",
       "  'PH_clampage_cote_2',\n",
       "  'PAPS_clampage_cote_2',\n",
       "  'PA_clampage_cote_2',\n",
       "  'VT_clampage_cote_2',\n",
       "  'PaCO2_clampage_cote_2',\n",
       "  'PAPM_clampage_cote_2',\n",
       "  'FC_clampage_cote_2',\n",
       "  'Fr_clampage_cote_2',\n",
       "  'PaO2_clampage_cote_2',\n",
       "  'PAPD_clampage_cote_2',\n",
       "  'NORAD_clampage_cote_2',\n",
       "  'PEEP_clampage_cote_2',\n",
       "  'Bicarbonates_clampage_cote_2',\n",
       "  'NO_clampage_cote_2',\n",
       "  'Evolution_PAP_clampage_cote_2',\n",
       "  'Lactates_clampage_cote_2',\n",
       "  'SvO2_clampage_cote_2',\n",
       "  'Ic_clampage_cote_2',\n",
       "  'Hb_clampage_cote_2',\n",
       "  'Qc_clampage_cote_2',\n",
       "  'Examen_Echographique_clampage_cote_2',\n",
       "  'evenements_clampage_cote_2',\n",
       "  'evenements_clampage_cote_2_commentaires',\n",
       "  'Heure_declampage_cote2',\n",
       "  'second_lung_ischemic_time',\n",
       "  'FiO2_declampage_cote2',\n",
       "  'PH_declampage_cote_2',\n",
       "  'PAPS_declampage_cote_2',\n",
       "  'PA _declampage_cote_2',\n",
       "  'VT_declampage_cote_2',\n",
       "  'PaCO2_declampage_cote_2',\n",
       "  'PAPM_declampage_cote_2',\n",
       "  'FC_declampage_cote_2',\n",
       "  'Fr_declampage_cote_2',\n",
       "  'PaO2_declampage_cote_2',\n",
       "  'PAPD_declampage_cote_2',\n",
       "  'NORAD_declampage_cote_2',\n",
       "  'PEEP_declampage_cote_2',\n",
       "  'Bicarbonates_declampage_cote_2',\n",
       "  'NO_declampage_cote_2',\n",
       "  'Evolution_PAP_declampage_cote_2',\n",
       "  'SvO2_declampage_cote_2',\n",
       "  'Lactates_declampage_cote_2',\n",
       "  'Ic_declampage_cote_2',\n",
       "  'Hb_declampage_cote_2',\n",
       "  'Qc_declampage_cote_2',\n",
       "  'Examen_Echographique_declampage_cote_2',\n",
       "  'evenements_declampage_cote_2',\n",
       "  'evenements_declampage_cote_2_commentaires',\n",
       "  'Saigement_estime_declampage_cote2',\n",
       "  'classification_bullage_2',\n",
       "  'duree_bullage_2',\n",
       "  'retentissement_ETO_bullage_2',\n",
       "  'retentissement_ECG_bullage_2',\n",
       "  'retentissement_BIS_bullage_2',\n",
       "  'Retentissement_hemodynamique_bullage_2',\n",
       "  'Problemes_survenus_VBP_2',\n",
       "  'Problemes_survenus_VBP_2_commentaires',\n",
       "  'postoperative_ECMO',\n",
       "  'only_intraoperative_ECMO',\n",
       "  'ECMO_during_surgery',\n",
       "  'ECMO_duration',\n",
       "  'CEC',\n",
       "  'moment_de_pose_ECMO',\n",
       "  'cause_ECMO',\n",
       "  'pulmonary_reduction',\n",
       "  'adrenaline_perop',\n",
       "  'FiO2_fermeture',\n",
       "  'PH_fermeture',\n",
       "  'PAPS_fermeture',\n",
       "  'PA_fermeture',\n",
       "  'VT_fermeture',\n",
       "  'PaCO2_fermeture',\n",
       "  'PAPM_fermeture',\n",
       "  'FC_fermeture',\n",
       "  'Fr_fermeture',\n",
       "  'PaO2_fermeture',\n",
       "  'PAPD_fermeture',\n",
       "  'NORAD_fermeture',\n",
       "  'PEEP_fermeture',\n",
       "  'Bicarbonates_fermeture',\n",
       "  'NO_fermeture',\n",
       "  'Evolution_fermeture',\n",
       "  'SvO2_fermeture',\n",
       "  'Lactates_fermeture',\n",
       "  'Ic_fermeture',\n",
       "  'Hb_fermeture',\n",
       "  'Qc_fermeture',\n",
       "  'Fibroscopie_fermeture',\n",
       "  'Extubation_commentaire',\n",
       "  'VNI',\n",
       "  'Analgesie_post_operatoire',\n",
       "  'Peridurale_fermeture',\n",
       "  'PRDC_intraop',\n",
       "  'CEC.1',\n",
       "  'ECMO',\n",
       "  'FFP_intraop',\n",
       "  'platelets_intraop',\n",
       "  'NO_per_op',\n",
       "  'NO_dependence',\n",
       "  'cause_NO_dependance',\n",
       "  'adre_end_surgery',\n",
       "  'nad_end_surgery',\n",
       "  'estimated_blood_loss',\n",
       "  'Fibrinogene_fermeture',\n",
       "  'Cell_Saver',\n",
       "  'Diurese_fermeture',\n",
       "  'fluid_support',\n",
       "  'Drains_D_fermeture',\n",
       "  'Drains_G_fermeture',\n",
       "  'Albumine 20% fermeture'],\n",
       " 'patient_postoperatoire': ['numero',\n",
       "  'LOS_first_ventilation',\n",
       "  'LOS_total_ventilation',\n",
       "  ' immediate_extubation',\n",
       "  'secondary_intubation',\n",
       "  'time_to_secondary_intubation',\n",
       "  'secondary_ECMO',\n",
       "  'delai_recours_ECMO',\n",
       "  'Cause_ECMO_secondaire',\n",
       "  'postoperative_vasopressive_support',\n",
       "  'ACFA',\n",
       "  'PRBC_postop',\n",
       "  'FFP_postop',\n",
       "  'Platelets_postop',\n",
       "  'CVA',\n",
       "  'hemodyalisis',\n",
       "  'tracheostomy',\n",
       "  'reoperation_for_bleeding',\n",
       "  'bleeding',\n",
       "  'lower_limb_complication',\n",
       "  'lower_limb_ischemia',\n",
       "  'scarpa_complication',\n",
       "  'vascular_complications',\n",
       "  'thromboembolic_complication',\n",
       "  'choc_septique',\n",
       "  'cardiac_arrest_during_surgery',\n",
       "  'LOS_ICU',\n",
       "  'LOS_hosp',\n",
       "  'in_hospital_mortality',\n",
       "  '30_d_survival',\n",
       "  'P_F_H0',\n",
       "  'PGD_H0',\n",
       "  'P_F_end_surgery',\n",
       "  'PGD_end_surgery',\n",
       "  'time_last_PF',\n",
       "  'PDG_h24',\n",
       "  'PGD_h48',\n",
       "  'PGD3',\n",
       "  'date_de_deces',\n",
       "  'Survival_days_27_10_2018'],\n",
       " 'patient_preoperatoire': ['numero',\n",
       "  'date_transplantation',\n",
       "  'heure_arrivee_bloc',\n",
       "  'pathologie',\n",
       "  'age',\n",
       "  'sexe',\n",
       "  'Poids',\n",
       "  'Taille',\n",
       "  'other_organ_transplantation',\n",
       "  'super_urgence',\n",
       "  'retransplant',\n",
       "  'transplanted_twice_during_study_period',\n",
       "  'time_on_waiting_liste',\n",
       "  'LAS',\n",
       "  'preoperative_ICU',\n",
       "  'preoperative_vasopressor',\n",
       "  'preoperative_mechanical_ventilation',\n",
       "  'ATCD_medicaux',\n",
       "  'PFO',\n",
       "  'body_mass_index',\n",
       "  'diabetes',\n",
       "  'preoperative_pulmonary_hypertension',\n",
       "  'PAPS',\n",
       "  'Insuffisance_renale',\n",
       "  'CMV_receveur',\n",
       "  'plasmapherese',\n",
       "  'preoperative_ECMO',\n",
       "  'ATCD_chirugicaux',\n",
       "  'thoracic_surgery_history']}"
      ]
     },
     "execution_count": 16,
     "metadata": {},
     "output_type": "execute_result"
    }
   ],
   "source": [
    "file = pd.ExcelFile(files[0])\n",
    "output = {}\n",
    "for sheet in tqdm(file.sheet_names):\n",
    "    if sheet not in ['ensemble', 'glossaire']:\n",
    "        df = pd.read_excel(files[0], sheet, index_col=None)\n",
    "        if sheet != 'donneur':\n",
    "            sheet = '{}_{}'.format('patient', sheet)\n",
    "        \n",
    "        filename = os.path.join(DATA_MODEL, 'dim_{}.csv'.format(sheet))\n",
    "        df.to_csv(filename)\n",
    "        info = {\n",
    "        sheet : list(df.columns.values)\n",
    "        }\n",
    "        output.update(info)\n",
    "DIM_MAP_FIELDS = output\n",
    "output"
   ]
  },
  {
   "cell_type": "code",
   "execution_count": 13,
   "metadata": {},
   "outputs": [
    {
     "name": "stdout",
     "output_type": "stream",
     "text": [
      "donneur ['numero', 'CMV_donneur', 'EBV_donneur', 'Age_donor', 'Sex_donor', 'BMI_donor', 'Poids_donor', 'Taille_donor', 'Donneur_CPT', 'Tabagisme_donor', 'Aspirations_donor', 'RX_donor', 'PF_donor', 'oto_score']\n",
      "patient_postoperatoire ['numero', 'LOS_first_ventilation', 'LOS_total_ventilation', ' immediate_extubation', 'secondary_intubation', 'time_to_secondary_intubation', 'secondary_ECMO', 'delai_recours_ECMO', 'Cause_ECMO_secondaire', 'postoperative_vasopressive_support', 'ACFA', 'PRBC_postop', 'FFP_postop', 'Platelets_postop', 'CVA', 'hemodyalisis', 'tracheostomy', 'reoperation_for_bleeding', 'bleeding', 'lower_limb_complication', 'lower_limb_ischemia', 'scarpa_complication', 'vascular_complications', 'thromboembolic_complication', 'choc_septique', 'cardiac_arrest_during_surgery', 'LOS_ICU', 'LOS_hosp', 'in_hospital_mortality', '30_d_survival', 'P_F_H0', 'PGD_H0', 'P_F_end_surgery', 'PGD_end_surgery', 'time_last_PF', 'PDG_h24', 'PGD_h48', 'PGD3', 'date_de_deces', 'Survival_days_27_10_2018']\n",
      "patient_preoperatoire ['numero', 'date_transplantation', 'heure_arrivee_bloc', 'pathologie', 'age', 'sexe', 'Poids', 'Taille', 'other_organ_transplantation', 'super_urgence', 'retransplant', 'transplanted_twice_during_study_period', 'time_on_waiting_liste', 'LAS', 'preoperative_ICU', 'preoperative_vasopressor', 'preoperative_mechanical_ventilation', 'ATCD_medicaux', 'PFO', 'body_mass_index', 'diabetes', 'preoperative_pulmonary_hypertension', 'PAPS', 'Insuffisance_renale', 'CMV_receveur', 'plasmapherese', 'preoperative_ECMO', 'ATCD_chirugicaux', 'thoracic_surgery_history']\n",
      "patient_intraoperatoire ['numero', 'exvivo', 'Immunosuppresseurs', 'heure_transfert_rea', 'date_sortie_bloc', 'duree_sejour_bloc', 'Antibioprophylaxie', 'PB_induction', 'Pb_induction_detail', 'FIO2_initiale', 'pH_initial', 'PAPS_initiale', 'PA_initiale', 'VT_initial', 'PaCO2_initial', 'PAPM_initiale', 'Fc_initiale', 'FR_initial', 'PaO2_initial', 'PAPD_initiale', 'NORAD_initiale', 'PEEP_initial', 'Bicarbonates_initial', 'NO_initiale', 'Lactate_initial', 'SvO2_initiale', 'Ic_initial', 'Hb_initial', 'Qc_initiale', 'Examen_Echographique_initial', 'Problemes_VBP', 'Problemes_VBP_commentaires', 'premiere_transplantation_cote', 'Ventilation_Unipulmonaire_Pb', 'FiO2_clampage_cote_1', 'PH_clampage_cote_1', 'PAPS_clampage_cote_1', 'PA_clampage_cote_1', 'VT_clampage_cote_1', 'PaCO2_clampage_cote_1', 'PAPM_clampage_cote_1', 'FC_clampage_cote_1', 'Fr_clampage_cote_1', 'PaO2_clampage_cote_1', 'PAPD_clampage_cote_1', 'NORAD_clampage_cote_1', 'PEEP_clampage_cote_1', 'Bicarbonates_clampage_cote_1', 'NO_clampage_cote_1', 'Evolution_PAP_clampage_cote_1', 'Lactates_clampage_cote_1', 'SvO2_clampage_cote_1', 'Ic_clampage_cote_1', 'Hb_clampage_cote_1', 'Qc_clampage_cote_1', 'Examen_Echographique_clampage_cote_1', 'evenements_clampage_cote_1', 'evenements_clampage_cote_1_commentaires', 'Heure_declampage_cote1', 'first_lung_ischemic_time', 'FiO2_declampage_cote1', 'PH_declampage_cote_1', 'PAPS_declampage_cote_1', 'PA _declampage_cote_1', 'VT_declampage_cote_1', 'PaCO2_declampage_cote_1', 'PAPM_declampage_cote_1', 'FC_declampage_cote_1', 'Fr_declampage_cote_1', 'PaO2_declampage_cote_1', 'PAPD_declampage_cote_1', 'NORAD_declampage_cote_1', 'PEEP_declampage_cote_1', 'Bicarbonates_declampage_cote_1', 'NO_declampage_cote_1', 'Evolution_PAP_declampage_cote_1', 'SvO2_declampage_cote_1', 'Lactates_declampage_cote_1', 'Ic_declampage_cote_1', 'Hb_declampage_cote_1', 'Qc_declampage_cote_1', 'Examen_Echographique_declampage_cote_1', 'evenements_declampage_cote_1', 'evenements_declampage_cote_1_commentaires', 'Saigement_estime_declampage_cote1', 'classification_bullage_1', 'duree_bullage_1', 'retentissement_ETO_bullage_1', 'retentissement_ECG_bullage_1', 'retentissement_BIS_bullage_1', 'Retentissement_hemodynamique_bullage_1', 'deuxieme_transplantation_cote', 'Ventilation_Unipulmonaire_Pb.1', 'FiO2_clampage_cote_2', 'PH_clampage_cote_2', 'PAPS_clampage_cote_2', 'PA_clampage_cote_2', 'VT_clampage_cote_2', 'PaCO2_clampage_cote_2', 'PAPM_clampage_cote_2', 'FC_clampage_cote_2', 'Fr_clampage_cote_2', 'PaO2_clampage_cote_2', 'PAPD_clampage_cote_2', 'NORAD_clampage_cote_2', 'PEEP_clampage_cote_2', 'Bicarbonates_clampage_cote_2', 'NO_clampage_cote_2', 'Evolution_PAP_clampage_cote_2', 'Lactates_clampage_cote_2', 'SvO2_clampage_cote_2', 'Ic_clampage_cote_2', 'Hb_clampage_cote_2', 'Qc_clampage_cote_2', 'Examen_Echographique_clampage_cote_2', 'evenements_clampage_cote_2', 'evenements_clampage_cote_2_commentaires', 'Heure_declampage_cote2', 'second_lung_ischemic_time', 'FiO2_declampage_cote2', 'PH_declampage_cote_2', 'PAPS_declampage_cote_2', 'PA _declampage_cote_2', 'VT_declampage_cote_2', 'PaCO2_declampage_cote_2', 'PAPM_declampage_cote_2', 'FC_declampage_cote_2', 'Fr_declampage_cote_2', 'PaO2_declampage_cote_2', 'PAPD_declampage_cote_2', 'NORAD_declampage_cote_2', 'PEEP_declampage_cote_2', 'Bicarbonates_declampage_cote_2', 'NO_declampage_cote_2', 'Evolution_PAP_declampage_cote_2', 'SvO2_declampage_cote_2', 'Lactates_declampage_cote_2', 'Ic_declampage_cote_2', 'Hb_declampage_cote_2', 'Qc_declampage_cote_2', 'Examen_Echographique_declampage_cote_2', 'evenements_declampage_cote_2', 'evenements_declampage_cote_2_commentaires', 'Saigement_estime_declampage_cote2', 'classification_bullage_2', 'duree_bullage_2', 'retentissement_ETO_bullage_2', 'retentissement_ECG_bullage_2', 'retentissement_BIS_bullage_2', 'Retentissement_hemodynamique_bullage_2', 'Problemes_survenus_VBP_2', 'Problemes_survenus_VBP_2_commentaires', 'postoperative_ECMO', 'only_intraoperative_ECMO', 'ECMO_during_surgery', 'ECMO_duration', 'CEC', 'moment_de_pose_ECMO', 'cause_ECMO', 'pulmonary_reduction', 'adrenaline_perop', 'FiO2_fermeture', 'PH_fermeture', 'PAPS_fermeture', 'PA_fermeture', 'VT_fermeture', 'PaCO2_fermeture', 'PAPM_fermeture', 'FC_fermeture', 'Fr_fermeture', 'PaO2_fermeture', 'PAPD_fermeture', 'NORAD_fermeture', 'PEEP_fermeture', 'Bicarbonates_fermeture', 'NO_fermeture', 'Evolution_fermeture', 'SvO2_fermeture', 'Lactates_fermeture', 'Ic_fermeture', 'Hb_fermeture', 'Qc_fermeture', 'Fibroscopie_fermeture', 'Extubation_commentaire', 'VNI', 'Analgesie_post_operatoire', 'Peridurale_fermeture', 'PRDC_intraop', 'CEC.1', 'ECMO', 'FFP_intraop', 'platelets_intraop', 'NO_per_op', 'NO_dependence', 'cause_NO_dependance', 'adre_end_surgery', 'nad_end_surgery', 'estimated_blood_loss', 'Fibrinogene_fermeture', 'Cell_Saver', 'Diurese_fermeture', 'fluid_support', 'Drains_D_fermeture', 'Drains_G_fermeture', 'Albumine 20% fermeture']\n"
     ]
    }
   ],
   "source": [
    "for name, array in DIM_MAP_FIELDS.items():\n",
    "    df_ = df[df.columns.intersection(array)]\n",
    "    filename = os.path.join('', 'dim_{}.csv'.format(name))\n",
    "    #df.to_csv(filename)"
   ]
  },
  {
   "cell_type": "markdown",
   "metadata": {},
   "source": [
    "Déterminer les colonnes partagées par les différentes tables de dimensions."
   ]
  },
  {
   "cell_type": "code",
   "execution_count": 15,
   "metadata": {},
   "outputs": [],
   "source": [
    "df_intra = pd.read_csv('dim_patient_intraoperatoire.csv')\n",
    "df_post = pd.read_csv('dim_patient_postoperatoire.csv')\n",
    "df_pre = pd.read_csv('dim_patient_preoperatoire.csv')"
   ]
  },
  {
   "cell_type": "code",
   "execution_count": 14,
   "metadata": {},
   "outputs": [
    {
     "name": "stdout",
     "output_type": "stream",
     "text": [
      "Index(['Unnamed: 0', 'numero', 'LOS_first_ventilation',\n",
      "       'LOS_total_ventilation', ' immediate_extubation',\n",
      "       'secondary_intubation', 'time_to_secondary_intubation',\n",
      "       'secondary_ECMO', 'delai_recours_ECMO', 'Cause_ECMO_secondaire',\n",
      "       'postoperative_vasopressive_support', 'ACFA', 'PRBC_postop',\n",
      "       'FFP_postop', 'Platelets_postop', 'CVA', 'hemodyalisis', 'tracheostomy',\n",
      "       'reoperation_for_bleeding', 'bleeding', 'lower_limb_complication',\n",
      "       'lower_limb_ischemia', 'scarpa_complication', 'vascular_complications',\n",
      "       'thromboembolic_complication', 'choc_septique',\n",
      "       'cardiac_arrest_during_surgery', 'LOS_ICU', 'LOS_hosp',\n",
      "       'in_hospital_mortality', '30_d_survival', 'P_F_H0', 'PGD_H0',\n",
      "       'P_F_end_surgery', 'PGD_end_surgery', 'time_last_PF', 'PDG_h24',\n",
      "       'PGD_h48', 'PGD3', 'date_de_deces', 'Survival_days_27_10_2018'],\n",
      "      dtype='object')\n",
      "Nb of common columns: 41\n"
     ]
    }
   ],
   "source": [
    "common_columns = df_intra.columns & df_pre.columns & df_post.columns\n",
    "print(common_columns)\n",
    "print(\"Nb of common columns: {}\".format(common_columns.size))"
   ]
  },
  {
   "cell_type": "code",
   "execution_count": 1,
   "metadata": {},
   "outputs": [
    {
     "name": "stdout",
     "output_type": "stream",
     "text": [
      "Found 1 files ... \n",
      "Importing and cleaning Excel files ...\n",
      "Uploading sheets of the Excel file ...\n"
     ]
    },
    {
     "name": "stderr",
     "output_type": "stream",
     "text": [
      "100%|██████████| 6/6 [00:12<00:00,  2.00s/it]\n"
     ]
    },
    {
     "name": "stdout",
     "output_type": "stream",
     "text": [
      "Found 13 files ... \n",
      "Importing and cleaning Excel files ...\n"
     ]
    },
    {
     "name": "stderr",
     "output_type": "stream",
     "text": [
      "100%|██████████| 13/13 [01:06<00:00,  5.46s/it]\n"
     ]
    },
    {
     "name": "stdout",
     "output_type": "stream",
     "text": [
      "Exporting clean file in  /Users/yanni-benoit-iyeze/Documents/Data For Good/batch_5_transplant/data/clean_data/...\n",
      "Creating the data model in /Users/yanni-benoit-iyeze/Documents/Data For Good/batch_5_transplant/data/clean_data/model/...\n"
     ]
    }
   ],
   "source": [
    "from scripts.parser import Parser\n",
    "parser = Parser()\n",
    "\n",
    "parser.update_tables()"
   ]
  },
  {
   "cell_type": "code",
   "execution_count": null,
   "metadata": {},
   "outputs": [],
   "source": []
  }
 ],
 "metadata": {
  "kernelspec": {
   "display_name": "transplant",
   "language": "python",
   "name": "transplant"
  },
  "language_info": {
   "codemirror_mode": {
    "name": "ipython",
    "version": 3
   },
   "file_extension": ".py",
   "mimetype": "text/x-python",
   "name": "python",
   "nbconvert_exporter": "python",
   "pygments_lexer": "ipython3",
   "version": "3.5.6"
  }
 },
 "nbformat": 4,
 "nbformat_minor": 2
}
